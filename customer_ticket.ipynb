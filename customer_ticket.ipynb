{
  "nbformat": 4,
  "nbformat_minor": 0,
  "metadata": {
    "colab": {
      "provenance": [],
      "mount_file_id": "1GGIHlTYJhlnITi5BDyxcN5WuGfaU8XpM",
      "authorship_tag": "ABX9TyOKxbPKa3Rb89RAI2cr006K",
      "include_colab_link": true
    },
    "kernelspec": {
      "name": "python3",
      "display_name": "Python 3"
    },
    "language_info": {
      "name": "python"
    },
    "widgets": {
      "application/vnd.jupyter.widget-state+json": {
        "84887d8cdcce4e1292acc1de4ed6098a": {
          "model_module": "@jupyter-widgets/controls",
          "model_name": "HBoxModel",
          "model_module_version": "1.5.0",
          "state": {
            "_dom_classes": [],
            "_model_module": "@jupyter-widgets/controls",
            "_model_module_version": "1.5.0",
            "_model_name": "HBoxModel",
            "_view_count": null,
            "_view_module": "@jupyter-widgets/controls",
            "_view_module_version": "1.5.0",
            "_view_name": "HBoxView",
            "box_style": "",
            "children": [
              "IPY_MODEL_5184a00d5f0841cca6440335465da850",
              "IPY_MODEL_1f2f34c154da466aab2ffecf86acc56e",
              "IPY_MODEL_22e624bc5f5b4ae3bd393fd094a17dc7"
            ],
            "layout": "IPY_MODEL_1e077fc4a10a434fac9d5703cec2263a"
          }
        },
        "5184a00d5f0841cca6440335465da850": {
          "model_module": "@jupyter-widgets/controls",
          "model_name": "HTMLModel",
          "model_module_version": "1.5.0",
          "state": {
            "_dom_classes": [],
            "_model_module": "@jupyter-widgets/controls",
            "_model_module_version": "1.5.0",
            "_model_name": "HTMLModel",
            "_view_count": null,
            "_view_module": "@jupyter-widgets/controls",
            "_view_module_version": "1.5.0",
            "_view_name": "HTMLView",
            "description": "",
            "description_tooltip": null,
            "layout": "IPY_MODEL_a4e92054ec6e4e60bb72906c32669538",
            "placeholder": "​",
            "style": "IPY_MODEL_7c1627a3df1247b291defb048de1ae0f",
            "value": "Map: 100%"
          }
        },
        "1f2f34c154da466aab2ffecf86acc56e": {
          "model_module": "@jupyter-widgets/controls",
          "model_name": "FloatProgressModel",
          "model_module_version": "1.5.0",
          "state": {
            "_dom_classes": [],
            "_model_module": "@jupyter-widgets/controls",
            "_model_module_version": "1.5.0",
            "_model_name": "FloatProgressModel",
            "_view_count": null,
            "_view_module": "@jupyter-widgets/controls",
            "_view_module_version": "1.5.0",
            "_view_name": "ProgressView",
            "bar_style": "success",
            "description": "",
            "description_tooltip": null,
            "layout": "IPY_MODEL_94096660a588498c932f4fcc345968d9",
            "max": 416,
            "min": 0,
            "orientation": "horizontal",
            "style": "IPY_MODEL_f43a3c06129e48ebadbb5d99bef7532f",
            "value": 416
          }
        },
        "22e624bc5f5b4ae3bd393fd094a17dc7": {
          "model_module": "@jupyter-widgets/controls",
          "model_name": "HTMLModel",
          "model_module_version": "1.5.0",
          "state": {
            "_dom_classes": [],
            "_model_module": "@jupyter-widgets/controls",
            "_model_module_version": "1.5.0",
            "_model_name": "HTMLModel",
            "_view_count": null,
            "_view_module": "@jupyter-widgets/controls",
            "_view_module_version": "1.5.0",
            "_view_name": "HTMLView",
            "description": "",
            "description_tooltip": null,
            "layout": "IPY_MODEL_56466d042f7445c5b045d3cb1c1ff017",
            "placeholder": "​",
            "style": "IPY_MODEL_4251f8053a0e4bda9aeef75f703bc879",
            "value": " 416/416 [00:00&lt;00:00, 4744.89 examples/s]"
          }
        },
        "1e077fc4a10a434fac9d5703cec2263a": {
          "model_module": "@jupyter-widgets/base",
          "model_name": "LayoutModel",
          "model_module_version": "1.2.0",
          "state": {
            "_model_module": "@jupyter-widgets/base",
            "_model_module_version": "1.2.0",
            "_model_name": "LayoutModel",
            "_view_count": null,
            "_view_module": "@jupyter-widgets/base",
            "_view_module_version": "1.2.0",
            "_view_name": "LayoutView",
            "align_content": null,
            "align_items": null,
            "align_self": null,
            "border": null,
            "bottom": null,
            "display": null,
            "flex": null,
            "flex_flow": null,
            "grid_area": null,
            "grid_auto_columns": null,
            "grid_auto_flow": null,
            "grid_auto_rows": null,
            "grid_column": null,
            "grid_gap": null,
            "grid_row": null,
            "grid_template_areas": null,
            "grid_template_columns": null,
            "grid_template_rows": null,
            "height": null,
            "justify_content": null,
            "justify_items": null,
            "left": null,
            "margin": null,
            "max_height": null,
            "max_width": null,
            "min_height": null,
            "min_width": null,
            "object_fit": null,
            "object_position": null,
            "order": null,
            "overflow": null,
            "overflow_x": null,
            "overflow_y": null,
            "padding": null,
            "right": null,
            "top": null,
            "visibility": null,
            "width": null
          }
        },
        "a4e92054ec6e4e60bb72906c32669538": {
          "model_module": "@jupyter-widgets/base",
          "model_name": "LayoutModel",
          "model_module_version": "1.2.0",
          "state": {
            "_model_module": "@jupyter-widgets/base",
            "_model_module_version": "1.2.0",
            "_model_name": "LayoutModel",
            "_view_count": null,
            "_view_module": "@jupyter-widgets/base",
            "_view_module_version": "1.2.0",
            "_view_name": "LayoutView",
            "align_content": null,
            "align_items": null,
            "align_self": null,
            "border": null,
            "bottom": null,
            "display": null,
            "flex": null,
            "flex_flow": null,
            "grid_area": null,
            "grid_auto_columns": null,
            "grid_auto_flow": null,
            "grid_auto_rows": null,
            "grid_column": null,
            "grid_gap": null,
            "grid_row": null,
            "grid_template_areas": null,
            "grid_template_columns": null,
            "grid_template_rows": null,
            "height": null,
            "justify_content": null,
            "justify_items": null,
            "left": null,
            "margin": null,
            "max_height": null,
            "max_width": null,
            "min_height": null,
            "min_width": null,
            "object_fit": null,
            "object_position": null,
            "order": null,
            "overflow": null,
            "overflow_x": null,
            "overflow_y": null,
            "padding": null,
            "right": null,
            "top": null,
            "visibility": null,
            "width": null
          }
        },
        "7c1627a3df1247b291defb048de1ae0f": {
          "model_module": "@jupyter-widgets/controls",
          "model_name": "DescriptionStyleModel",
          "model_module_version": "1.5.0",
          "state": {
            "_model_module": "@jupyter-widgets/controls",
            "_model_module_version": "1.5.0",
            "_model_name": "DescriptionStyleModel",
            "_view_count": null,
            "_view_module": "@jupyter-widgets/base",
            "_view_module_version": "1.2.0",
            "_view_name": "StyleView",
            "description_width": ""
          }
        },
        "94096660a588498c932f4fcc345968d9": {
          "model_module": "@jupyter-widgets/base",
          "model_name": "LayoutModel",
          "model_module_version": "1.2.0",
          "state": {
            "_model_module": "@jupyter-widgets/base",
            "_model_module_version": "1.2.0",
            "_model_name": "LayoutModel",
            "_view_count": null,
            "_view_module": "@jupyter-widgets/base",
            "_view_module_version": "1.2.0",
            "_view_name": "LayoutView",
            "align_content": null,
            "align_items": null,
            "align_self": null,
            "border": null,
            "bottom": null,
            "display": null,
            "flex": null,
            "flex_flow": null,
            "grid_area": null,
            "grid_auto_columns": null,
            "grid_auto_flow": null,
            "grid_auto_rows": null,
            "grid_column": null,
            "grid_gap": null,
            "grid_row": null,
            "grid_template_areas": null,
            "grid_template_columns": null,
            "grid_template_rows": null,
            "height": null,
            "justify_content": null,
            "justify_items": null,
            "left": null,
            "margin": null,
            "max_height": null,
            "max_width": null,
            "min_height": null,
            "min_width": null,
            "object_fit": null,
            "object_position": null,
            "order": null,
            "overflow": null,
            "overflow_x": null,
            "overflow_y": null,
            "padding": null,
            "right": null,
            "top": null,
            "visibility": null,
            "width": null
          }
        },
        "f43a3c06129e48ebadbb5d99bef7532f": {
          "model_module": "@jupyter-widgets/controls",
          "model_name": "ProgressStyleModel",
          "model_module_version": "1.5.0",
          "state": {
            "_model_module": "@jupyter-widgets/controls",
            "_model_module_version": "1.5.0",
            "_model_name": "ProgressStyleModel",
            "_view_count": null,
            "_view_module": "@jupyter-widgets/base",
            "_view_module_version": "1.2.0",
            "_view_name": "StyleView",
            "bar_color": null,
            "description_width": ""
          }
        },
        "56466d042f7445c5b045d3cb1c1ff017": {
          "model_module": "@jupyter-widgets/base",
          "model_name": "LayoutModel",
          "model_module_version": "1.2.0",
          "state": {
            "_model_module": "@jupyter-widgets/base",
            "_model_module_version": "1.2.0",
            "_model_name": "LayoutModel",
            "_view_count": null,
            "_view_module": "@jupyter-widgets/base",
            "_view_module_version": "1.2.0",
            "_view_name": "LayoutView",
            "align_content": null,
            "align_items": null,
            "align_self": null,
            "border": null,
            "bottom": null,
            "display": null,
            "flex": null,
            "flex_flow": null,
            "grid_area": null,
            "grid_auto_columns": null,
            "grid_auto_flow": null,
            "grid_auto_rows": null,
            "grid_column": null,
            "grid_gap": null,
            "grid_row": null,
            "grid_template_areas": null,
            "grid_template_columns": null,
            "grid_template_rows": null,
            "height": null,
            "justify_content": null,
            "justify_items": null,
            "left": null,
            "margin": null,
            "max_height": null,
            "max_width": null,
            "min_height": null,
            "min_width": null,
            "object_fit": null,
            "object_position": null,
            "order": null,
            "overflow": null,
            "overflow_x": null,
            "overflow_y": null,
            "padding": null,
            "right": null,
            "top": null,
            "visibility": null,
            "width": null
          }
        },
        "4251f8053a0e4bda9aeef75f703bc879": {
          "model_module": "@jupyter-widgets/controls",
          "model_name": "DescriptionStyleModel",
          "model_module_version": "1.5.0",
          "state": {
            "_model_module": "@jupyter-widgets/controls",
            "_model_module_version": "1.5.0",
            "_model_name": "DescriptionStyleModel",
            "_view_count": null,
            "_view_module": "@jupyter-widgets/base",
            "_view_module_version": "1.2.0",
            "_view_name": "StyleView",
            "description_width": ""
          }
        },
        "dd752e4b04ba40eca66e53f7ef10c2f0": {
          "model_module": "@jupyter-widgets/controls",
          "model_name": "HBoxModel",
          "model_module_version": "1.5.0",
          "state": {
            "_dom_classes": [],
            "_model_module": "@jupyter-widgets/controls",
            "_model_module_version": "1.5.0",
            "_model_name": "HBoxModel",
            "_view_count": null,
            "_view_module": "@jupyter-widgets/controls",
            "_view_module_version": "1.5.0",
            "_view_name": "HBoxView",
            "box_style": "",
            "children": [
              "IPY_MODEL_b1690738792341d4bc27791d5ed30d02",
              "IPY_MODEL_4b328491f4c3493e9214fa5cb808578a",
              "IPY_MODEL_31642a0fcbf54f88a38d8b6b4699cd06"
            ],
            "layout": "IPY_MODEL_320f4e6a880d4c80809c7db4dd7a01f0"
          }
        },
        "b1690738792341d4bc27791d5ed30d02": {
          "model_module": "@jupyter-widgets/controls",
          "model_name": "HTMLModel",
          "model_module_version": "1.5.0",
          "state": {
            "_dom_classes": [],
            "_model_module": "@jupyter-widgets/controls",
            "_model_module_version": "1.5.0",
            "_model_name": "HTMLModel",
            "_view_count": null,
            "_view_module": "@jupyter-widgets/controls",
            "_view_module_version": "1.5.0",
            "_view_name": "HTMLView",
            "description": "",
            "description_tooltip": null,
            "layout": "IPY_MODEL_a7c933182fd743cb810fe502b20dc291",
            "placeholder": "​",
            "style": "IPY_MODEL_104ee71578724762a8c6f7dffcf8a0e7",
            "value": "Map: 100%"
          }
        },
        "4b328491f4c3493e9214fa5cb808578a": {
          "model_module": "@jupyter-widgets/controls",
          "model_name": "FloatProgressModel",
          "model_module_version": "1.5.0",
          "state": {
            "_dom_classes": [],
            "_model_module": "@jupyter-widgets/controls",
            "_model_module_version": "1.5.0",
            "_model_name": "FloatProgressModel",
            "_view_count": null,
            "_view_module": "@jupyter-widgets/controls",
            "_view_module_version": "1.5.0",
            "_view_name": "ProgressView",
            "bar_style": "success",
            "description": "",
            "description_tooltip": null,
            "layout": "IPY_MODEL_703fb0845efe41e2af283c7e8c402f6c",
            "max": 104,
            "min": 0,
            "orientation": "horizontal",
            "style": "IPY_MODEL_17b068189ea9499c959d357018fdc245",
            "value": 104
          }
        },
        "31642a0fcbf54f88a38d8b6b4699cd06": {
          "model_module": "@jupyter-widgets/controls",
          "model_name": "HTMLModel",
          "model_module_version": "1.5.0",
          "state": {
            "_dom_classes": [],
            "_model_module": "@jupyter-widgets/controls",
            "_model_module_version": "1.5.0",
            "_model_name": "HTMLModel",
            "_view_count": null,
            "_view_module": "@jupyter-widgets/controls",
            "_view_module_version": "1.5.0",
            "_view_name": "HTMLView",
            "description": "",
            "description_tooltip": null,
            "layout": "IPY_MODEL_1742714aea1f45f481653f1d5f09d427",
            "placeholder": "​",
            "style": "IPY_MODEL_4bdd7f7983a04a16bb6d38ebd7eedb73",
            "value": " 104/104 [00:00&lt;00:00, 2492.57 examples/s]"
          }
        },
        "320f4e6a880d4c80809c7db4dd7a01f0": {
          "model_module": "@jupyter-widgets/base",
          "model_name": "LayoutModel",
          "model_module_version": "1.2.0",
          "state": {
            "_model_module": "@jupyter-widgets/base",
            "_model_module_version": "1.2.0",
            "_model_name": "LayoutModel",
            "_view_count": null,
            "_view_module": "@jupyter-widgets/base",
            "_view_module_version": "1.2.0",
            "_view_name": "LayoutView",
            "align_content": null,
            "align_items": null,
            "align_self": null,
            "border": null,
            "bottom": null,
            "display": null,
            "flex": null,
            "flex_flow": null,
            "grid_area": null,
            "grid_auto_columns": null,
            "grid_auto_flow": null,
            "grid_auto_rows": null,
            "grid_column": null,
            "grid_gap": null,
            "grid_row": null,
            "grid_template_areas": null,
            "grid_template_columns": null,
            "grid_template_rows": null,
            "height": null,
            "justify_content": null,
            "justify_items": null,
            "left": null,
            "margin": null,
            "max_height": null,
            "max_width": null,
            "min_height": null,
            "min_width": null,
            "object_fit": null,
            "object_position": null,
            "order": null,
            "overflow": null,
            "overflow_x": null,
            "overflow_y": null,
            "padding": null,
            "right": null,
            "top": null,
            "visibility": null,
            "width": null
          }
        },
        "a7c933182fd743cb810fe502b20dc291": {
          "model_module": "@jupyter-widgets/base",
          "model_name": "LayoutModel",
          "model_module_version": "1.2.0",
          "state": {
            "_model_module": "@jupyter-widgets/base",
            "_model_module_version": "1.2.0",
            "_model_name": "LayoutModel",
            "_view_count": null,
            "_view_module": "@jupyter-widgets/base",
            "_view_module_version": "1.2.0",
            "_view_name": "LayoutView",
            "align_content": null,
            "align_items": null,
            "align_self": null,
            "border": null,
            "bottom": null,
            "display": null,
            "flex": null,
            "flex_flow": null,
            "grid_area": null,
            "grid_auto_columns": null,
            "grid_auto_flow": null,
            "grid_auto_rows": null,
            "grid_column": null,
            "grid_gap": null,
            "grid_row": null,
            "grid_template_areas": null,
            "grid_template_columns": null,
            "grid_template_rows": null,
            "height": null,
            "justify_content": null,
            "justify_items": null,
            "left": null,
            "margin": null,
            "max_height": null,
            "max_width": null,
            "min_height": null,
            "min_width": null,
            "object_fit": null,
            "object_position": null,
            "order": null,
            "overflow": null,
            "overflow_x": null,
            "overflow_y": null,
            "padding": null,
            "right": null,
            "top": null,
            "visibility": null,
            "width": null
          }
        },
        "104ee71578724762a8c6f7dffcf8a0e7": {
          "model_module": "@jupyter-widgets/controls",
          "model_name": "DescriptionStyleModel",
          "model_module_version": "1.5.0",
          "state": {
            "_model_module": "@jupyter-widgets/controls",
            "_model_module_version": "1.5.0",
            "_model_name": "DescriptionStyleModel",
            "_view_count": null,
            "_view_module": "@jupyter-widgets/base",
            "_view_module_version": "1.2.0",
            "_view_name": "StyleView",
            "description_width": ""
          }
        },
        "703fb0845efe41e2af283c7e8c402f6c": {
          "model_module": "@jupyter-widgets/base",
          "model_name": "LayoutModel",
          "model_module_version": "1.2.0",
          "state": {
            "_model_module": "@jupyter-widgets/base",
            "_model_module_version": "1.2.0",
            "_model_name": "LayoutModel",
            "_view_count": null,
            "_view_module": "@jupyter-widgets/base",
            "_view_module_version": "1.2.0",
            "_view_name": "LayoutView",
            "align_content": null,
            "align_items": null,
            "align_self": null,
            "border": null,
            "bottom": null,
            "display": null,
            "flex": null,
            "flex_flow": null,
            "grid_area": null,
            "grid_auto_columns": null,
            "grid_auto_flow": null,
            "grid_auto_rows": null,
            "grid_column": null,
            "grid_gap": null,
            "grid_row": null,
            "grid_template_areas": null,
            "grid_template_columns": null,
            "grid_template_rows": null,
            "height": null,
            "justify_content": null,
            "justify_items": null,
            "left": null,
            "margin": null,
            "max_height": null,
            "max_width": null,
            "min_height": null,
            "min_width": null,
            "object_fit": null,
            "object_position": null,
            "order": null,
            "overflow": null,
            "overflow_x": null,
            "overflow_y": null,
            "padding": null,
            "right": null,
            "top": null,
            "visibility": null,
            "width": null
          }
        },
        "17b068189ea9499c959d357018fdc245": {
          "model_module": "@jupyter-widgets/controls",
          "model_name": "ProgressStyleModel",
          "model_module_version": "1.5.0",
          "state": {
            "_model_module": "@jupyter-widgets/controls",
            "_model_module_version": "1.5.0",
            "_model_name": "ProgressStyleModel",
            "_view_count": null,
            "_view_module": "@jupyter-widgets/base",
            "_view_module_version": "1.2.0",
            "_view_name": "StyleView",
            "bar_color": null,
            "description_width": ""
          }
        },
        "1742714aea1f45f481653f1d5f09d427": {
          "model_module": "@jupyter-widgets/base",
          "model_name": "LayoutModel",
          "model_module_version": "1.2.0",
          "state": {
            "_model_module": "@jupyter-widgets/base",
            "_model_module_version": "1.2.0",
            "_model_name": "LayoutModel",
            "_view_count": null,
            "_view_module": "@jupyter-widgets/base",
            "_view_module_version": "1.2.0",
            "_view_name": "LayoutView",
            "align_content": null,
            "align_items": null,
            "align_self": null,
            "border": null,
            "bottom": null,
            "display": null,
            "flex": null,
            "flex_flow": null,
            "grid_area": null,
            "grid_auto_columns": null,
            "grid_auto_flow": null,
            "grid_auto_rows": null,
            "grid_column": null,
            "grid_gap": null,
            "grid_row": null,
            "grid_template_areas": null,
            "grid_template_columns": null,
            "grid_template_rows": null,
            "height": null,
            "justify_content": null,
            "justify_items": null,
            "left": null,
            "margin": null,
            "max_height": null,
            "max_width": null,
            "min_height": null,
            "min_width": null,
            "object_fit": null,
            "object_position": null,
            "order": null,
            "overflow": null,
            "overflow_x": null,
            "overflow_y": null,
            "padding": null,
            "right": null,
            "top": null,
            "visibility": null,
            "width": null
          }
        },
        "4bdd7f7983a04a16bb6d38ebd7eedb73": {
          "model_module": "@jupyter-widgets/controls",
          "model_name": "DescriptionStyleModel",
          "model_module_version": "1.5.0",
          "state": {
            "_model_module": "@jupyter-widgets/controls",
            "_model_module_version": "1.5.0",
            "_model_name": "DescriptionStyleModel",
            "_view_count": null,
            "_view_module": "@jupyter-widgets/base",
            "_view_module_version": "1.2.0",
            "_view_name": "StyleView",
            "description_width": ""
          }
        },
        "2096d32f27fd48d2a67e9e286c69138c": {
          "model_module": "@jupyter-widgets/controls",
          "model_name": "HBoxModel",
          "model_module_version": "1.5.0",
          "state": {
            "_dom_classes": [],
            "_model_module": "@jupyter-widgets/controls",
            "_model_module_version": "1.5.0",
            "_model_name": "HBoxModel",
            "_view_count": null,
            "_view_module": "@jupyter-widgets/controls",
            "_view_module_version": "1.5.0",
            "_view_name": "HBoxView",
            "box_style": "",
            "children": [
              "IPY_MODEL_8e15755b7bd6441aa7db78e0df1aa1c8",
              "IPY_MODEL_27aa9edcdefc48a5ad86470db7ed598a",
              "IPY_MODEL_e882db58e0ed4c849bcce5dfed06439e"
            ],
            "layout": "IPY_MODEL_c2e9f5bfc2a541d3b72ac00c75d082b5"
          }
        },
        "8e15755b7bd6441aa7db78e0df1aa1c8": {
          "model_module": "@jupyter-widgets/controls",
          "model_name": "HTMLModel",
          "model_module_version": "1.5.0",
          "state": {
            "_dom_classes": [],
            "_model_module": "@jupyter-widgets/controls",
            "_model_module_version": "1.5.0",
            "_model_name": "HTMLModel",
            "_view_count": null,
            "_view_module": "@jupyter-widgets/controls",
            "_view_module_version": "1.5.0",
            "_view_name": "HTMLView",
            "description": "",
            "description_tooltip": null,
            "layout": "IPY_MODEL_aab7ff8fc8bd4e8f9bb4874853fa106c",
            "placeholder": "​",
            "style": "IPY_MODEL_838a721ed3b9493b9d84489f08683124",
            "value": "model.safetensors: 100%"
          }
        },
        "27aa9edcdefc48a5ad86470db7ed598a": {
          "model_module": "@jupyter-widgets/controls",
          "model_name": "FloatProgressModel",
          "model_module_version": "1.5.0",
          "state": {
            "_dom_classes": [],
            "_model_module": "@jupyter-widgets/controls",
            "_model_module_version": "1.5.0",
            "_model_name": "FloatProgressModel",
            "_view_count": null,
            "_view_module": "@jupyter-widgets/controls",
            "_view_module_version": "1.5.0",
            "_view_name": "ProgressView",
            "bar_style": "success",
            "description": "",
            "description_tooltip": null,
            "layout": "IPY_MODEL_69bee06ce46245ae8aa4cb55ab53cedc",
            "max": 267954768,
            "min": 0,
            "orientation": "horizontal",
            "style": "IPY_MODEL_bb775ebc72cf4a1c97c2f80ca004e1ea",
            "value": 267954768
          }
        },
        "e882db58e0ed4c849bcce5dfed06439e": {
          "model_module": "@jupyter-widgets/controls",
          "model_name": "HTMLModel",
          "model_module_version": "1.5.0",
          "state": {
            "_dom_classes": [],
            "_model_module": "@jupyter-widgets/controls",
            "_model_module_version": "1.5.0",
            "_model_name": "HTMLModel",
            "_view_count": null,
            "_view_module": "@jupyter-widgets/controls",
            "_view_module_version": "1.5.0",
            "_view_name": "HTMLView",
            "description": "",
            "description_tooltip": null,
            "layout": "IPY_MODEL_95ffca5973614e50b7d50e10423cd860",
            "placeholder": "​",
            "style": "IPY_MODEL_2b96c4d215c1420d9aca15e301082dcf",
            "value": " 268M/268M [00:05&lt;00:00, 64.1MB/s]"
          }
        },
        "c2e9f5bfc2a541d3b72ac00c75d082b5": {
          "model_module": "@jupyter-widgets/base",
          "model_name": "LayoutModel",
          "model_module_version": "1.2.0",
          "state": {
            "_model_module": "@jupyter-widgets/base",
            "_model_module_version": "1.2.0",
            "_model_name": "LayoutModel",
            "_view_count": null,
            "_view_module": "@jupyter-widgets/base",
            "_view_module_version": "1.2.0",
            "_view_name": "LayoutView",
            "align_content": null,
            "align_items": null,
            "align_self": null,
            "border": null,
            "bottom": null,
            "display": null,
            "flex": null,
            "flex_flow": null,
            "grid_area": null,
            "grid_auto_columns": null,
            "grid_auto_flow": null,
            "grid_auto_rows": null,
            "grid_column": null,
            "grid_gap": null,
            "grid_row": null,
            "grid_template_areas": null,
            "grid_template_columns": null,
            "grid_template_rows": null,
            "height": null,
            "justify_content": null,
            "justify_items": null,
            "left": null,
            "margin": null,
            "max_height": null,
            "max_width": null,
            "min_height": null,
            "min_width": null,
            "object_fit": null,
            "object_position": null,
            "order": null,
            "overflow": null,
            "overflow_x": null,
            "overflow_y": null,
            "padding": null,
            "right": null,
            "top": null,
            "visibility": null,
            "width": null
          }
        },
        "aab7ff8fc8bd4e8f9bb4874853fa106c": {
          "model_module": "@jupyter-widgets/base",
          "model_name": "LayoutModel",
          "model_module_version": "1.2.0",
          "state": {
            "_model_module": "@jupyter-widgets/base",
            "_model_module_version": "1.2.0",
            "_model_name": "LayoutModel",
            "_view_count": null,
            "_view_module": "@jupyter-widgets/base",
            "_view_module_version": "1.2.0",
            "_view_name": "LayoutView",
            "align_content": null,
            "align_items": null,
            "align_self": null,
            "border": null,
            "bottom": null,
            "display": null,
            "flex": null,
            "flex_flow": null,
            "grid_area": null,
            "grid_auto_columns": null,
            "grid_auto_flow": null,
            "grid_auto_rows": null,
            "grid_column": null,
            "grid_gap": null,
            "grid_row": null,
            "grid_template_areas": null,
            "grid_template_columns": null,
            "grid_template_rows": null,
            "height": null,
            "justify_content": null,
            "justify_items": null,
            "left": null,
            "margin": null,
            "max_height": null,
            "max_width": null,
            "min_height": null,
            "min_width": null,
            "object_fit": null,
            "object_position": null,
            "order": null,
            "overflow": null,
            "overflow_x": null,
            "overflow_y": null,
            "padding": null,
            "right": null,
            "top": null,
            "visibility": null,
            "width": null
          }
        },
        "838a721ed3b9493b9d84489f08683124": {
          "model_module": "@jupyter-widgets/controls",
          "model_name": "DescriptionStyleModel",
          "model_module_version": "1.5.0",
          "state": {
            "_model_module": "@jupyter-widgets/controls",
            "_model_module_version": "1.5.0",
            "_model_name": "DescriptionStyleModel",
            "_view_count": null,
            "_view_module": "@jupyter-widgets/base",
            "_view_module_version": "1.2.0",
            "_view_name": "StyleView",
            "description_width": ""
          }
        },
        "69bee06ce46245ae8aa4cb55ab53cedc": {
          "model_module": "@jupyter-widgets/base",
          "model_name": "LayoutModel",
          "model_module_version": "1.2.0",
          "state": {
            "_model_module": "@jupyter-widgets/base",
            "_model_module_version": "1.2.0",
            "_model_name": "LayoutModel",
            "_view_count": null,
            "_view_module": "@jupyter-widgets/base",
            "_view_module_version": "1.2.0",
            "_view_name": "LayoutView",
            "align_content": null,
            "align_items": null,
            "align_self": null,
            "border": null,
            "bottom": null,
            "display": null,
            "flex": null,
            "flex_flow": null,
            "grid_area": null,
            "grid_auto_columns": null,
            "grid_auto_flow": null,
            "grid_auto_rows": null,
            "grid_column": null,
            "grid_gap": null,
            "grid_row": null,
            "grid_template_areas": null,
            "grid_template_columns": null,
            "grid_template_rows": null,
            "height": null,
            "justify_content": null,
            "justify_items": null,
            "left": null,
            "margin": null,
            "max_height": null,
            "max_width": null,
            "min_height": null,
            "min_width": null,
            "object_fit": null,
            "object_position": null,
            "order": null,
            "overflow": null,
            "overflow_x": null,
            "overflow_y": null,
            "padding": null,
            "right": null,
            "top": null,
            "visibility": null,
            "width": null
          }
        },
        "bb775ebc72cf4a1c97c2f80ca004e1ea": {
          "model_module": "@jupyter-widgets/controls",
          "model_name": "ProgressStyleModel",
          "model_module_version": "1.5.0",
          "state": {
            "_model_module": "@jupyter-widgets/controls",
            "_model_module_version": "1.5.0",
            "_model_name": "ProgressStyleModel",
            "_view_count": null,
            "_view_module": "@jupyter-widgets/base",
            "_view_module_version": "1.2.0",
            "_view_name": "StyleView",
            "bar_color": null,
            "description_width": ""
          }
        },
        "95ffca5973614e50b7d50e10423cd860": {
          "model_module": "@jupyter-widgets/base",
          "model_name": "LayoutModel",
          "model_module_version": "1.2.0",
          "state": {
            "_model_module": "@jupyter-widgets/base",
            "_model_module_version": "1.2.0",
            "_model_name": "LayoutModel",
            "_view_count": null,
            "_view_module": "@jupyter-widgets/base",
            "_view_module_version": "1.2.0",
            "_view_name": "LayoutView",
            "align_content": null,
            "align_items": null,
            "align_self": null,
            "border": null,
            "bottom": null,
            "display": null,
            "flex": null,
            "flex_flow": null,
            "grid_area": null,
            "grid_auto_columns": null,
            "grid_auto_flow": null,
            "grid_auto_rows": null,
            "grid_column": null,
            "grid_gap": null,
            "grid_row": null,
            "grid_template_areas": null,
            "grid_template_columns": null,
            "grid_template_rows": null,
            "height": null,
            "justify_content": null,
            "justify_items": null,
            "left": null,
            "margin": null,
            "max_height": null,
            "max_width": null,
            "min_height": null,
            "min_width": null,
            "object_fit": null,
            "object_position": null,
            "order": null,
            "overflow": null,
            "overflow_x": null,
            "overflow_y": null,
            "padding": null,
            "right": null,
            "top": null,
            "visibility": null,
            "width": null
          }
        },
        "2b96c4d215c1420d9aca15e301082dcf": {
          "model_module": "@jupyter-widgets/controls",
          "model_name": "DescriptionStyleModel",
          "model_module_version": "1.5.0",
          "state": {
            "_model_module": "@jupyter-widgets/controls",
            "_model_module_version": "1.5.0",
            "_model_name": "DescriptionStyleModel",
            "_view_count": null,
            "_view_module": "@jupyter-widgets/base",
            "_view_module_version": "1.2.0",
            "_view_name": "StyleView",
            "description_width": ""
          }
        }
      }
    }
  },
  "cells": [
    {
      "cell_type": "markdown",
      "metadata": {
        "id": "view-in-github",
        "colab_type": "text"
      },
      "source": [
        "<a href=\"https://colab.research.google.com/github/amoskwaw/Employee-Salary-Predictor/blob/main/customer_ticket.ipynb\" target=\"_parent\"><img src=\"https://colab.research.google.com/assets/colab-badge.svg\" alt=\"Open In Colab\"/></a>"
      ]
    },
    {
      "cell_type": "markdown",
      "source": [
        "DATA CLEANING NOTEBOOK FOR GROUP A\n",
        "This notebook contains the necessary jupiter notebook codes needed to clean the dirty customer support ticket dataset for our ML Internship week 1 project.\n",
        "\n",
        "It basically does the following:\n",
        "\n",
        "1. Load the necessary libraries\n",
        "2. Loads and reads the dataset in a csv format\n",
        "3. Performs basic EDA to check for missing data\n",
        "4. Displays the top 10 and last 10 rows of the data to inspect the text.\n",
        "5. Performs the needed cleaning to correct labels, remove unwanted characters, emojis, duplicates, unwanted standalone texts/numbers and deal with missing data."
      ],
      "metadata": {
        "id": "AawCX58ReDJr"
      }
    },
    {
      "cell_type": "markdown",
      "source": [
        "\n",
        "\n",
        "## 1.  Install libraries"
      ],
      "metadata": {
        "id": "UJCrJwp4epey"
      }
    },
    {
      "cell_type": "code",
      "execution_count": 45,
      "metadata": {
        "id": "ehi5PFcFdTh0"
      },
      "outputs": [],
      "source": [
        "import os\n",
        "import pandas as pd\n",
        "import numpy as np\n",
        "import re\n",
        "import httpx\n",
        "import matplotlib.pyplot as plt\n",
        "import seaborn as sns\n",
        "from collections import Counter\n",
        "from sklearn.model_selection import train_test_split\n"
      ]
    },
    {
      "cell_type": "markdown",
      "source": [
        "2. Load data"
      ],
      "metadata": {
        "id": "583tmxz8e9BJ"
      }
    },
    {
      "cell_type": "code",
      "source": [
        "from google.colab import files\n",
        "import os\n",
        "\n",
        "# Define DATA_PATH here\n",
        "DATA_PATH = \"/content/drive/MyDrive/DATA_SETS/customer_support_tickets_dirty.csv\""
      ],
      "metadata": {
        "id": "EXP5knJZe-7L"
      },
      "execution_count": 2,
      "outputs": []
    },
    {
      "cell_type": "markdown",
      "source": [
        "Read Data"
      ],
      "metadata": {
        "id": "DLMGHFh9gK_R"
      }
    },
    {
      "cell_type": "code",
      "source": [
        "df = pd.read_csv(DATA_PATH)\n",
        "\n",
        "print(\"✅ Loaded dataset.\")\n",
        "print(\"Shape:\", df.shape)"
      ],
      "metadata": {
        "colab": {
          "base_uri": "https://localhost:8080/"
        },
        "id": "6hbKrJcdgOui",
        "outputId": "2984952e-faea-465e-e5d3-19cf68a92439"
      },
      "execution_count": 3,
      "outputs": [
        {
          "output_type": "stream",
          "name": "stdout",
          "text": [
            "✅ Loaded dataset.\n",
            "Shape: (520, 4)\n"
          ]
        }
      ]
    },
    {
      "cell_type": "markdown",
      "source": [
        "Exploratory Data Analysis (EDA)"
      ],
      "metadata": {
        "id": "3Ux8dGzqgkbe"
      }
    },
    {
      "cell_type": "code",
      "source": [
        "print(\"Columns:\", df.columns.tolist())\n",
        "print(\"\\nInfo:\")\n",
        "print(df.info())\n",
        "\n",
        "print(\"\\nMissing values per column:\")\n",
        "print(df.isna().sum())"
      ],
      "metadata": {
        "colab": {
          "base_uri": "https://localhost:8080/"
        },
        "id": "8AEVLBDVgmHD",
        "outputId": "1686c7cc-462c-4bc1-c93e-2a24fe9baa0f"
      },
      "execution_count": 4,
      "outputs": [
        {
          "output_type": "stream",
          "name": "stdout",
          "text": [
            "Columns: ['text', 'label', 'ticket_id', 'agent_name']\n",
            "\n",
            "Info:\n",
            "<class 'pandas.core.frame.DataFrame'>\n",
            "RangeIndex: 520 entries, 0 to 519\n",
            "Data columns (total 4 columns):\n",
            " #   Column      Non-Null Count  Dtype \n",
            "---  ------      --------------  ----- \n",
            " 0   text        495 non-null    object\n",
            " 1   label       495 non-null    object\n",
            " 2   ticket_id   520 non-null    int64 \n",
            " 3   agent_name  520 non-null    object\n",
            "dtypes: int64(1), object(3)\n",
            "memory usage: 16.4+ KB\n",
            "None\n",
            "\n",
            "Missing values per column:\n",
            "text          25\n",
            "label         25\n",
            "ticket_id      0\n",
            "agent_name     0\n",
            "dtype: int64\n"
          ]
        }
      ]
    },
    {
      "cell_type": "markdown",
      "source": [
        "Finding Percentage of missing data"
      ],
      "metadata": {
        "id": "SsK31xYzh90l"
      }
    },
    {
      "cell_type": "code",
      "source": [
        "missing_value_percent = df.isnull().mean() * 100\n",
        "print(missing_value_percent)"
      ],
      "metadata": {
        "colab": {
          "base_uri": "https://localhost:8080/"
        },
        "id": "a09HXstsiA-x",
        "outputId": "d5edad68-712d-43a8-b03a-ebd39205bac8"
      },
      "execution_count": 5,
      "outputs": [
        {
          "output_type": "stream",
          "name": "stdout",
          "text": [
            "text          4.807692\n",
            "label         4.807692\n",
            "ticket_id     0.000000\n",
            "agent_name    0.000000\n",
            "dtype: float64\n"
          ]
        }
      ]
    },
    {
      "cell_type": "markdown",
      "source": [
        "We considered replacing the missing data with \"unknown\" because the percentage of missing values is less than 5%"
      ],
      "metadata": {
        "id": "CS_uqZdhiYoc"
      }
    },
    {
      "cell_type": "markdown",
      "source": [
        "EDA- First looking at the Data"
      ],
      "metadata": {
        "id": "9ERNwKYdiiDv"
      }
    },
    {
      "cell_type": "code",
      "source": [
        "# Displaying first 5 rows\n",
        "print(\"Displaying first 5 rows:\")\n",
        "print(df.head(5))\n",
        "\n",
        "# Displaying last 5 rows\n",
        "print(\"\\nDisplaying last 5 rows:\")\n",
        "print(df.tail(5))"
      ],
      "metadata": {
        "colab": {
          "base_uri": "https://localhost:8080/"
        },
        "id": "iOT3xoMJicOG",
        "outputId": "f9af23f0-94b9-4558-9008-3fd6397ef3c7"
      },
      "execution_count": 10,
      "outputs": [
        {
          "output_type": "stream",
          "name": "stdout",
          "text": [
            "Displaying first 5 rows:\n",
            "                                                text         label  ticket_id  \\\n",
            "0    Where can I find API rate limits documentation?          Othr       1000   \n",
            "1                 Can I migrate data from Freshdesk?          Othr       1001   \n",
            "2  Cannot update billing address; page keeps relo...       billing       1002   \n",
            "3  Looking for a product roadmap or upcoming feat...         other       1003   \n",
            "4              Dark mode toggled but UI stays light.  Tech-support       1004   \n",
            "\n",
            "  agent_name  \n",
            "0       Dana  \n",
            "1        Bob  \n",
            "2    Charlie  \n",
            "3       Dana  \n",
            "4      Alice  \n",
            "\n",
            "Displaying last 5 rows:\n",
            "                                                  text    label  ticket_id  \\\n",
            "515  Currency converted incorrectly; expected USD. ...   Billng       1515   \n",
            "516          Can't verify phone number; code not sent.  ACCOUNT       1516   \n",
            "517              Dark mode toggled but UI stays light.     Tech       1517   \n",
            "518  Search results page is blank after entering a ...     Tech       1518   \n",
            "519  Payment failed during checkout with card endin...   Billng       1519   \n",
            "\n",
            "    agent_name  \n",
            "515    Charlie  \n",
            "516      Alice  \n",
            "517    Charlie  \n",
            "518       Dana  \n",
            "519      Alice  \n"
          ]
        }
      ]
    },
    {
      "cell_type": "markdown",
      "source": [
        "Our dataset is messy due to missing, inconsistent, unwanted information, funny characters and emojis . Cleaning it ensures that the final data is complete, consistent, and ready for accurate analysis or modeling.\n",
        "\n",
        "Let's check for the labels in the dataset."
      ],
      "metadata": {
        "id": "a7D4SKaumO8N"
      }
    },
    {
      "cell_type": "code",
      "source": [
        "# Inspect unique labels and their counts\n",
        "print(\"Unique labels and their counts:\")\n",
        "print(df['label'].value_counts())"
      ],
      "metadata": {
        "colab": {
          "base_uri": "https://localhost:8080/"
        },
        "id": "jU6dkxl8mU-u",
        "outputId": "b238b0c8-28fe-4bd5-b0e4-00bb4c48fdd2"
      },
      "execution_count": 12,
      "outputs": [
        {
          "output_type": "stream",
          "name": "stdout",
          "text": [
            "Unique labels and their counts:\n",
            "label\n",
            "Accnt           42\n",
            " Tech           41\n",
            "ACCOUNT         37\n",
            "Othr            35\n",
            "Billng          35\n",
            "Billing         34\n",
            "Other           33\n",
            "technical       32\n",
            "other           32\n",
            "TECHNICAL       31\n",
            "OTHER           28\n",
            "billing         26\n",
            "BILLING         25\n",
            " Account        22\n",
            "account         21\n",
            "Tech-support    21\n",
            "Name: count, dtype: int64\n"
          ]
        }
      ]
    },
    {
      "cell_type": "markdown",
      "source": [
        "Data cleaning"
      ],
      "metadata": {
        "id": "R9MmZBkDmnh4"
      }
    },
    {
      "cell_type": "code",
      "source": [
        "# Function to clean text (preserve case)\n",
        "def clean_text_preserve_case(text):\n",
        "    \"\"\"\n",
        "    Cleans text by:\n",
        "    - Removing standalone '12345' and standalone 'br' words\n",
        "    - Preserving case\n",
        "    - Keeping digits, spaces, ., ?, @, $\n",
        "    - Removing other unwanted special characters\n",
        "    - Normalizing extra spaces\n",
        "    \"\"\"\n",
        "    if not isinstance(text, str):\n",
        "        return text\n",
        "\n",
        "    # Remove standalone '12345'\n",
        "    text = re.sub(r'(?<!\\d)12345(?!\\d)', '', text)\n",
        "\n",
        "    # Remove standalone 'br' (case-insensitive)\n",
        "    text = re.sub(r'\\bbr\\b', '', text, flags=re.IGNORECASE)\n",
        "\n",
        "    # Remove unwanted characters but KEEP @ and $\n",
        "    text = re.sub(r'[^A-Za-z0-9\\s\\.\\?\\@\\$\\-]', '', text)\n",
        "\n",
        "    # Remove spaces before punctuation\n",
        "    text = re.sub(r'\\s+([.?])', r'\\1', text)\n",
        "\n",
        "    # Collapse multiple spaces\n",
        "    text = re.sub(r'\\s+', ' ', text).strip()\n",
        "\n",
        "    return text\n",
        "\n",
        "# Label corrections\n",
        "label_corrections = {\n",
        "    'othr': 'Other',\n",
        "    'tech-support': 'Technical',\n",
        "    'technical-support': 'Technical',\n",
        "     'TECHNICAL': 'Technical',\n",
        "    'billng': 'Billing',\n",
        "    'BILLING': 'Billing',\n",
        "    'accnt': 'Account',\n",
        "    'account': 'Account',\n",
        "    'Account': 'Account',\n",
        "    'other': 'Other',\n",
        "    'tech': 'Technical'\n",
        "}\n",
        "\n",
        "def correct_labels(text):\n",
        "    \"\"\"Apply label corrections case-insensitively.\"\"\"\n",
        "    if not isinstance(text, str):\n",
        "        return text\n",
        "    cleaned = text.strip()\n",
        "    for wrong, right in label_corrections.items():\n",
        "        cleaned = re.sub(rf'\\b{wrong}\\b', right, cleaned, flags=re.IGNORECASE)\n",
        "    return cleaned\n",
        "\n",
        "#  Identify text columns\n",
        "text_columns = [c for c in ['text', 'label', 'agent_name'] if c in df.columns]\n",
        "if not text_columns:\n",
        "    raise ValueError(\"None of the expected text columns ('text','label','agent_name') are present.\")\n",
        "\n",
        "#  Cleaning pipeline\n",
        "df = df.drop_duplicates(keep='first')\n",
        "df = df.fillna(\"unknown\")\n",
        "\n",
        "# Apply cleaning to text columns\n",
        "for col in text_columns:\n",
        "    df[col] = df[col].astype(str).apply(clean_text_preserve_case)\n",
        "\n",
        "# Apply corrections to the label column specifically\n",
        "if 'label' in df.columns:\n",
        "    df['label'] = df['label'].astype(str).apply(correct_labels)\n",
        "\n",
        "#  Diagnostics\n",
        "if 'text' in df.columns:\n",
        "    after_count_12345 = df['text'].astype(str).str.contains(r'\\b12345\\b', regex=True, na=False).sum()\n",
        "    after_count_br = df['text'].astype(str).str.contains(r'\\bbr\\b', regex=True, na=False).sum()\n",
        "    print(f\"✅ '12345' occurrences removed: {after_count_12345 == 0}\")\n",
        "    print(f\"✅ 'br' occurrences removed: {after_count_br == 0}\")\n",
        "\n",
        "#  Save cleaned file\n",
        "out_path = \"customer_support_tickets_clean_500.csv\"\n",
        "df.to_csv(out_path, index=False)\n",
        "print(f\"\\n✅ Saved cleaned CSV to: {out_path}\")\n",
        "print(df.head(15).to_string(index=False))"
      ],
      "metadata": {
        "colab": {
          "base_uri": "https://localhost:8080/"
        },
        "id": "EcWkGm8ImpZj",
        "outputId": "76ea688f-260c-4162-bbc4-66e4e7f0a9bd"
      },
      "execution_count": 13,
      "outputs": [
        {
          "output_type": "stream",
          "name": "stdout",
          "text": [
            "✅ '12345' occurrences removed: True\n",
            "✅ 'br' occurrences removed: True\n",
            "\n",
            "✅ Saved cleaned CSV to: customer_support_tickets_clean_500.csv\n",
            "                                                     text     label  ticket_id agent_name\n",
            "          Where can I find API rate limits documentation?     Other       1000       Dana\n",
            "                       Can I migrate data from Freshdesk?     Other       1001        Bob\n",
            "      Cannot update billing address page keeps reloading.   Billing       1002    Charlie\n",
            "      Looking for a product roadmap or upcoming features.     Other       1003       Dana\n",
            "                    Dark mode toggled but UI stays light. Technical       1004      Alice\n",
            "             Promo code SPRING15 not applied at checkout.   Billing       1005      Alice\n",
            "   Incorrect role assigned need admin access for my team.   Account       1006       Dana\n",
            "             File export to CSV generates corrupted file. Technical       1007       Dana\n",
            "                  Overcharged by GHS 120 on my last bill.   Billing       1008       Dana\n",
            "                                                  unknown   Account       1009       Dana\n",
            "     Username amina already taken but its my old account.   Account       1010        Bob\n",
            "          Please provide onboarding training for my team.     Other       1011    Charlie\n",
            "               Integration with Slack fails with timeout. Technical       1012    Charlie\n",
            "Need to change email from old@mail.com to me@company.com.   Account       1013        Bob\n",
            "      Cannot update billing address page keeps reloading.   Billing       1014    Charlie\n"
          ]
        }
      ]
    },
    {
      "cell_type": "markdown",
      "source": [
        "recheck for missing data after cleaning"
      ],
      "metadata": {
        "id": "UK9nCownoo3l"
      }
    },
    {
      "cell_type": "code",
      "source": [
        "# Rechecking for missing data\n",
        "\n",
        "print(\"Columns:\", df.columns.tolist())\n",
        "print(\"\\nInfo:\")\n",
        "print(df.info())\n",
        "\n",
        "print(\"\\nMissing values per column:\")\n",
        "print(df.isna().sum())"
      ],
      "metadata": {
        "colab": {
          "base_uri": "https://localhost:8080/"
        },
        "id": "vZWiQTk1oqoe",
        "outputId": "f376500a-46dd-4f2a-aacb-d9de97bc6a95"
      },
      "execution_count": 14,
      "outputs": [
        {
          "output_type": "stream",
          "name": "stdout",
          "text": [
            "Columns: ['text', 'label', 'ticket_id', 'agent_name']\n",
            "\n",
            "Info:\n",
            "<class 'pandas.core.frame.DataFrame'>\n",
            "RangeIndex: 520 entries, 0 to 519\n",
            "Data columns (total 4 columns):\n",
            " #   Column      Non-Null Count  Dtype \n",
            "---  ------      --------------  ----- \n",
            " 0   text        520 non-null    object\n",
            " 1   label       520 non-null    object\n",
            " 2   ticket_id   520 non-null    int64 \n",
            " 3   agent_name  520 non-null    object\n",
            "dtypes: int64(1), object(3)\n",
            "memory usage: 16.4+ KB\n",
            "None\n",
            "\n",
            "Missing values per column:\n",
            "text          0\n",
            "label         0\n",
            "ticket_id     0\n",
            "agent_name    0\n",
            "dtype: int64\n"
          ]
        }
      ]
    },
    {
      "cell_type": "markdown",
      "source": [
        "*Now, there are no missing values, all noises cleaned and inconsistent labels corrected.*\n",
        "\n",
        "*Also our clean dataset is currently saved to customer_support_tickets_clean_500.csv*"
      ],
      "metadata": {
        "id": "q1IqnK6uo8jL"
      }
    },
    {
      "cell_type": "code",
      "source": [
        "df.to_csv(\"customer_support_tickets_clean_500.csv\", index=False)\n",
        "\n",
        "# saving cleaned dataset to my local machine\n",
        "from google.colab import files\n",
        "files.download(\"customer_support_tickets_clean_500.csv\")"
      ],
      "metadata": {
        "colab": {
          "base_uri": "https://localhost:8080/",
          "height": 17
        },
        "id": "WCVimEYrpEyr",
        "outputId": "ce52f885-0906-45fa-ad64-d0549018736b"
      },
      "execution_count": 17,
      "outputs": [
        {
          "output_type": "display_data",
          "data": {
            "text/plain": [
              "<IPython.core.display.Javascript object>"
            ],
            "application/javascript": [
              "\n",
              "    async function download(id, filename, size) {\n",
              "      if (!google.colab.kernel.accessAllowed) {\n",
              "        return;\n",
              "      }\n",
              "      const div = document.createElement('div');\n",
              "      const label = document.createElement('label');\n",
              "      label.textContent = `Downloading \"${filename}\": `;\n",
              "      div.appendChild(label);\n",
              "      const progress = document.createElement('progress');\n",
              "      progress.max = size;\n",
              "      div.appendChild(progress);\n",
              "      document.body.appendChild(div);\n",
              "\n",
              "      const buffers = [];\n",
              "      let downloaded = 0;\n",
              "\n",
              "      const channel = await google.colab.kernel.comms.open(id);\n",
              "      // Send a message to notify the kernel that we're ready.\n",
              "      channel.send({})\n",
              "\n",
              "      for await (const message of channel.messages) {\n",
              "        // Send a message to notify the kernel that we're ready.\n",
              "        channel.send({})\n",
              "        if (message.buffers) {\n",
              "          for (const buffer of message.buffers) {\n",
              "            buffers.push(buffer);\n",
              "            downloaded += buffer.byteLength;\n",
              "            progress.value = downloaded;\n",
              "          }\n",
              "        }\n",
              "      }\n",
              "      const blob = new Blob(buffers, {type: 'application/binary'});\n",
              "      const a = document.createElement('a');\n",
              "      a.href = window.URL.createObjectURL(blob);\n",
              "      a.download = filename;\n",
              "      div.appendChild(a);\n",
              "      a.click();\n",
              "      div.remove();\n",
              "    }\n",
              "  "
            ]
          },
          "metadata": {}
        },
        {
          "output_type": "display_data",
          "data": {
            "text/plain": [
              "<IPython.core.display.Javascript object>"
            ],
            "application/javascript": [
              "download(\"download_de142059-8084-48fb-9a1d-27e9d03743b4\", \"customer_support_tickets_clean_500.csv\", 32380)"
            ]
          },
          "metadata": {}
        }
      ]
    },
    {
      "cell_type": "markdown",
      "source": [
        "## VISUALIZATION"
      ],
      "metadata": {
        "id": "sU8K9SI8tFas"
      }
    },
    {
      "cell_type": "markdown",
      "source": [],
      "metadata": {
        "id": "5rG8oVr0ufQ0"
      }
    },
    {
      "cell_type": "code",
      "source": [
        "df.tail(20)"
      ],
      "metadata": {
        "colab": {
          "base_uri": "https://localhost:8080/",
          "height": 676
        },
        "id": "VO7Qs-1UukcV",
        "outputId": "a6dba8a7-c412-4b09-a82d-9ad62062ea28"
      },
      "execution_count": 32,
      "outputs": [
        {
          "output_type": "execute_result",
          "data": {
            "text/plain": [
              "                                                  text      label  ticket_id  \\\n",
              "500              How can I request my data under GDPR?      Other       1500   \n",
              "501             Website returns 500 error on checkout.  Technical       1501   \n",
              "502  Requesting invoice to be sent monthly instead ...      Other       1502   \n",
              "503       Upload stuck at 99 for more than 10 minutes.  Technical       1503   \n",
              "504   Forgot my password and reset link never arrives.    Account       1504   \n",
              "505    Please provide onboarding training for my team.      Other       1505   \n",
              "506    Please provide onboarding training for my team.      Other       1506   \n",
              "507   Profile picture upload fails with unknown error.    Account       1507   \n",
              "508       Do you offer discounts for students or NGOs?      Other       1508   \n",
              "509                  When is the Pro pricing changing?      Other       1509   \n",
              "510  Requesting invoice to be sent monthly instead ...      Other       1510   \n",
              "511              Dark mode toggled but UI stays light.  Technical       1511   \n",
              "512       Do you offer discounts for students or NGOs?      Other       1512   \n",
              "513          Live chat widget not loading on homepage.  Technical       1513   \n",
              "514                  Refund not received after 7 days.    Billing       1514   \n",
              "515       Currency converted incorrectly expected USD.    Billing       1515   \n",
              "516            Cant verify phone number code not sent.    Account       1516   \n",
              "517              Dark mode toggled but UI stays light.  Technical       1517   \n",
              "518  Search results page is blank after entering a ...  Technical       1518   \n",
              "519  Payment failed during checkout with card endin...    Billing       1519   \n",
              "\n",
              "    agent_name  \n",
              "500      Alice  \n",
              "501    Charlie  \n",
              "502    Charlie  \n",
              "503    Charlie  \n",
              "504        Bob  \n",
              "505    Charlie  \n",
              "506        Bob  \n",
              "507        Bob  \n",
              "508    Charlie  \n",
              "509        Bob  \n",
              "510        Bob  \n",
              "511       Dana  \n",
              "512    Charlie  \n",
              "513      Alice  \n",
              "514      Alice  \n",
              "515    Charlie  \n",
              "516      Alice  \n",
              "517    Charlie  \n",
              "518       Dana  \n",
              "519      Alice  "
            ],
            "text/html": [
              "\n",
              "  <div id=\"df-27cd5258-27b7-4ca6-9980-ab8bd82cf25f\" class=\"colab-df-container\">\n",
              "    <div>\n",
              "<style scoped>\n",
              "    .dataframe tbody tr th:only-of-type {\n",
              "        vertical-align: middle;\n",
              "    }\n",
              "\n",
              "    .dataframe tbody tr th {\n",
              "        vertical-align: top;\n",
              "    }\n",
              "\n",
              "    .dataframe thead th {\n",
              "        text-align: right;\n",
              "    }\n",
              "</style>\n",
              "<table border=\"1\" class=\"dataframe\">\n",
              "  <thead>\n",
              "    <tr style=\"text-align: right;\">\n",
              "      <th></th>\n",
              "      <th>text</th>\n",
              "      <th>label</th>\n",
              "      <th>ticket_id</th>\n",
              "      <th>agent_name</th>\n",
              "    </tr>\n",
              "  </thead>\n",
              "  <tbody>\n",
              "    <tr>\n",
              "      <th>500</th>\n",
              "      <td>How can I request my data under GDPR?</td>\n",
              "      <td>Other</td>\n",
              "      <td>1500</td>\n",
              "      <td>Alice</td>\n",
              "    </tr>\n",
              "    <tr>\n",
              "      <th>501</th>\n",
              "      <td>Website returns 500 error on checkout.</td>\n",
              "      <td>Technical</td>\n",
              "      <td>1501</td>\n",
              "      <td>Charlie</td>\n",
              "    </tr>\n",
              "    <tr>\n",
              "      <th>502</th>\n",
              "      <td>Requesting invoice to be sent monthly instead ...</td>\n",
              "      <td>Other</td>\n",
              "      <td>1502</td>\n",
              "      <td>Charlie</td>\n",
              "    </tr>\n",
              "    <tr>\n",
              "      <th>503</th>\n",
              "      <td>Upload stuck at 99 for more than 10 minutes.</td>\n",
              "      <td>Technical</td>\n",
              "      <td>1503</td>\n",
              "      <td>Charlie</td>\n",
              "    </tr>\n",
              "    <tr>\n",
              "      <th>504</th>\n",
              "      <td>Forgot my password and reset link never arrives.</td>\n",
              "      <td>Account</td>\n",
              "      <td>1504</td>\n",
              "      <td>Bob</td>\n",
              "    </tr>\n",
              "    <tr>\n",
              "      <th>505</th>\n",
              "      <td>Please provide onboarding training for my team.</td>\n",
              "      <td>Other</td>\n",
              "      <td>1505</td>\n",
              "      <td>Charlie</td>\n",
              "    </tr>\n",
              "    <tr>\n",
              "      <th>506</th>\n",
              "      <td>Please provide onboarding training for my team.</td>\n",
              "      <td>Other</td>\n",
              "      <td>1506</td>\n",
              "      <td>Bob</td>\n",
              "    </tr>\n",
              "    <tr>\n",
              "      <th>507</th>\n",
              "      <td>Profile picture upload fails with unknown error.</td>\n",
              "      <td>Account</td>\n",
              "      <td>1507</td>\n",
              "      <td>Bob</td>\n",
              "    </tr>\n",
              "    <tr>\n",
              "      <th>508</th>\n",
              "      <td>Do you offer discounts for students or NGOs?</td>\n",
              "      <td>Other</td>\n",
              "      <td>1508</td>\n",
              "      <td>Charlie</td>\n",
              "    </tr>\n",
              "    <tr>\n",
              "      <th>509</th>\n",
              "      <td>When is the Pro pricing changing?</td>\n",
              "      <td>Other</td>\n",
              "      <td>1509</td>\n",
              "      <td>Bob</td>\n",
              "    </tr>\n",
              "    <tr>\n",
              "      <th>510</th>\n",
              "      <td>Requesting invoice to be sent monthly instead ...</td>\n",
              "      <td>Other</td>\n",
              "      <td>1510</td>\n",
              "      <td>Bob</td>\n",
              "    </tr>\n",
              "    <tr>\n",
              "      <th>511</th>\n",
              "      <td>Dark mode toggled but UI stays light.</td>\n",
              "      <td>Technical</td>\n",
              "      <td>1511</td>\n",
              "      <td>Dana</td>\n",
              "    </tr>\n",
              "    <tr>\n",
              "      <th>512</th>\n",
              "      <td>Do you offer discounts for students or NGOs?</td>\n",
              "      <td>Other</td>\n",
              "      <td>1512</td>\n",
              "      <td>Charlie</td>\n",
              "    </tr>\n",
              "    <tr>\n",
              "      <th>513</th>\n",
              "      <td>Live chat widget not loading on homepage.</td>\n",
              "      <td>Technical</td>\n",
              "      <td>1513</td>\n",
              "      <td>Alice</td>\n",
              "    </tr>\n",
              "    <tr>\n",
              "      <th>514</th>\n",
              "      <td>Refund not received after 7 days.</td>\n",
              "      <td>Billing</td>\n",
              "      <td>1514</td>\n",
              "      <td>Alice</td>\n",
              "    </tr>\n",
              "    <tr>\n",
              "      <th>515</th>\n",
              "      <td>Currency converted incorrectly expected USD.</td>\n",
              "      <td>Billing</td>\n",
              "      <td>1515</td>\n",
              "      <td>Charlie</td>\n",
              "    </tr>\n",
              "    <tr>\n",
              "      <th>516</th>\n",
              "      <td>Cant verify phone number code not sent.</td>\n",
              "      <td>Account</td>\n",
              "      <td>1516</td>\n",
              "      <td>Alice</td>\n",
              "    </tr>\n",
              "    <tr>\n",
              "      <th>517</th>\n",
              "      <td>Dark mode toggled but UI stays light.</td>\n",
              "      <td>Technical</td>\n",
              "      <td>1517</td>\n",
              "      <td>Charlie</td>\n",
              "    </tr>\n",
              "    <tr>\n",
              "      <th>518</th>\n",
              "      <td>Search results page is blank after entering a ...</td>\n",
              "      <td>Technical</td>\n",
              "      <td>1518</td>\n",
              "      <td>Dana</td>\n",
              "    </tr>\n",
              "    <tr>\n",
              "      <th>519</th>\n",
              "      <td>Payment failed during checkout with card endin...</td>\n",
              "      <td>Billing</td>\n",
              "      <td>1519</td>\n",
              "      <td>Alice</td>\n",
              "    </tr>\n",
              "  </tbody>\n",
              "</table>\n",
              "</div>\n",
              "    <div class=\"colab-df-buttons\">\n",
              "\n",
              "  <div class=\"colab-df-container\">\n",
              "    <button class=\"colab-df-convert\" onclick=\"convertToInteractive('df-27cd5258-27b7-4ca6-9980-ab8bd82cf25f')\"\n",
              "            title=\"Convert this dataframe to an interactive table.\"\n",
              "            style=\"display:none;\">\n",
              "\n",
              "  <svg xmlns=\"http://www.w3.org/2000/svg\" height=\"24px\" viewBox=\"0 -960 960 960\">\n",
              "    <path d=\"M120-120v-720h720v720H120Zm60-500h600v-160H180v160Zm220 220h160v-160H400v160Zm0 220h160v-160H400v160ZM180-400h160v-160H180v160Zm440 0h160v-160H620v160ZM180-180h160v-160H180v160Zm440 0h160v-160H620v160Z\"/>\n",
              "  </svg>\n",
              "    </button>\n",
              "\n",
              "  <style>\n",
              "    .colab-df-container {\n",
              "      display:flex;\n",
              "      gap: 12px;\n",
              "    }\n",
              "\n",
              "    .colab-df-convert {\n",
              "      background-color: #E8F0FE;\n",
              "      border: none;\n",
              "      border-radius: 50%;\n",
              "      cursor: pointer;\n",
              "      display: none;\n",
              "      fill: #1967D2;\n",
              "      height: 32px;\n",
              "      padding: 0 0 0 0;\n",
              "      width: 32px;\n",
              "    }\n",
              "\n",
              "    .colab-df-convert:hover {\n",
              "      background-color: #E2EBFA;\n",
              "      box-shadow: 0px 1px 2px rgba(60, 64, 67, 0.3), 0px 1px 3px 1px rgba(60, 64, 67, 0.15);\n",
              "      fill: #174EA6;\n",
              "    }\n",
              "\n",
              "    .colab-df-buttons div {\n",
              "      margin-bottom: 4px;\n",
              "    }\n",
              "\n",
              "    [theme=dark] .colab-df-convert {\n",
              "      background-color: #3B4455;\n",
              "      fill: #D2E3FC;\n",
              "    }\n",
              "\n",
              "    [theme=dark] .colab-df-convert:hover {\n",
              "      background-color: #434B5C;\n",
              "      box-shadow: 0px 1px 3px 1px rgba(0, 0, 0, 0.15);\n",
              "      filter: drop-shadow(0px 1px 2px rgba(0, 0, 0, 0.3));\n",
              "      fill: #FFFFFF;\n",
              "    }\n",
              "  </style>\n",
              "\n",
              "    <script>\n",
              "      const buttonEl =\n",
              "        document.querySelector('#df-27cd5258-27b7-4ca6-9980-ab8bd82cf25f button.colab-df-convert');\n",
              "      buttonEl.style.display =\n",
              "        google.colab.kernel.accessAllowed ? 'block' : 'none';\n",
              "\n",
              "      async function convertToInteractive(key) {\n",
              "        const element = document.querySelector('#df-27cd5258-27b7-4ca6-9980-ab8bd82cf25f');\n",
              "        const dataTable =\n",
              "          await google.colab.kernel.invokeFunction('convertToInteractive',\n",
              "                                                    [key], {});\n",
              "        if (!dataTable) return;\n",
              "\n",
              "        const docLinkHtml = 'Like what you see? Visit the ' +\n",
              "          '<a target=\"_blank\" href=https://colab.research.google.com/notebooks/data_table.ipynb>data table notebook</a>'\n",
              "          + ' to learn more about interactive tables.';\n",
              "        element.innerHTML = '';\n",
              "        dataTable['output_type'] = 'display_data';\n",
              "        await google.colab.output.renderOutput(dataTable, element);\n",
              "        const docLink = document.createElement('div');\n",
              "        docLink.innerHTML = docLinkHtml;\n",
              "        element.appendChild(docLink);\n",
              "      }\n",
              "    </script>\n",
              "  </div>\n",
              "\n",
              "\n",
              "    <div id=\"df-0a162adb-1ec2-4337-8293-c147eb4416fe\">\n",
              "      <button class=\"colab-df-quickchart\" onclick=\"quickchart('df-0a162adb-1ec2-4337-8293-c147eb4416fe')\"\n",
              "                title=\"Suggest charts\"\n",
              "                style=\"display:none;\">\n",
              "\n",
              "<svg xmlns=\"http://www.w3.org/2000/svg\" height=\"24px\"viewBox=\"0 0 24 24\"\n",
              "     width=\"24px\">\n",
              "    <g>\n",
              "        <path d=\"M19 3H5c-1.1 0-2 .9-2 2v14c0 1.1.9 2 2 2h14c1.1 0 2-.9 2-2V5c0-1.1-.9-2-2-2zM9 17H7v-7h2v7zm4 0h-2V7h2v10zm4 0h-2v-4h2v4z\"/>\n",
              "    </g>\n",
              "</svg>\n",
              "      </button>\n",
              "\n",
              "<style>\n",
              "  .colab-df-quickchart {\n",
              "      --bg-color: #E8F0FE;\n",
              "      --fill-color: #1967D2;\n",
              "      --hover-bg-color: #E2EBFA;\n",
              "      --hover-fill-color: #174EA6;\n",
              "      --disabled-fill-color: #AAA;\n",
              "      --disabled-bg-color: #DDD;\n",
              "  }\n",
              "\n",
              "  [theme=dark] .colab-df-quickchart {\n",
              "      --bg-color: #3B4455;\n",
              "      --fill-color: #D2E3FC;\n",
              "      --hover-bg-color: #434B5C;\n",
              "      --hover-fill-color: #FFFFFF;\n",
              "      --disabled-bg-color: #3B4455;\n",
              "      --disabled-fill-color: #666;\n",
              "  }\n",
              "\n",
              "  .colab-df-quickchart {\n",
              "    background-color: var(--bg-color);\n",
              "    border: none;\n",
              "    border-radius: 50%;\n",
              "    cursor: pointer;\n",
              "    display: none;\n",
              "    fill: var(--fill-color);\n",
              "    height: 32px;\n",
              "    padding: 0;\n",
              "    width: 32px;\n",
              "  }\n",
              "\n",
              "  .colab-df-quickchart:hover {\n",
              "    background-color: var(--hover-bg-color);\n",
              "    box-shadow: 0 1px 2px rgba(60, 64, 67, 0.3), 0 1px 3px 1px rgba(60, 64, 67, 0.15);\n",
              "    fill: var(--button-hover-fill-color);\n",
              "  }\n",
              "\n",
              "  .colab-df-quickchart-complete:disabled,\n",
              "  .colab-df-quickchart-complete:disabled:hover {\n",
              "    background-color: var(--disabled-bg-color);\n",
              "    fill: var(--disabled-fill-color);\n",
              "    box-shadow: none;\n",
              "  }\n",
              "\n",
              "  .colab-df-spinner {\n",
              "    border: 2px solid var(--fill-color);\n",
              "    border-color: transparent;\n",
              "    border-bottom-color: var(--fill-color);\n",
              "    animation:\n",
              "      spin 1s steps(1) infinite;\n",
              "  }\n",
              "\n",
              "  @keyframes spin {\n",
              "    0% {\n",
              "      border-color: transparent;\n",
              "      border-bottom-color: var(--fill-color);\n",
              "      border-left-color: var(--fill-color);\n",
              "    }\n",
              "    20% {\n",
              "      border-color: transparent;\n",
              "      border-left-color: var(--fill-color);\n",
              "      border-top-color: var(--fill-color);\n",
              "    }\n",
              "    30% {\n",
              "      border-color: transparent;\n",
              "      border-left-color: var(--fill-color);\n",
              "      border-top-color: var(--fill-color);\n",
              "      border-right-color: var(--fill-color);\n",
              "    }\n",
              "    40% {\n",
              "      border-color: transparent;\n",
              "      border-right-color: var(--fill-color);\n",
              "      border-top-color: var(--fill-color);\n",
              "    }\n",
              "    60% {\n",
              "      border-color: transparent;\n",
              "      border-right-color: var(--fill-color);\n",
              "    }\n",
              "    80% {\n",
              "      border-color: transparent;\n",
              "      border-right-color: var(--fill-color);\n",
              "      border-bottom-color: var(--fill-color);\n",
              "    }\n",
              "    90% {\n",
              "      border-color: transparent;\n",
              "      border-bottom-color: var(--fill-color);\n",
              "    }\n",
              "  }\n",
              "</style>\n",
              "\n",
              "      <script>\n",
              "        async function quickchart(key) {\n",
              "          const quickchartButtonEl =\n",
              "            document.querySelector('#' + key + ' button');\n",
              "          quickchartButtonEl.disabled = true;  // To prevent multiple clicks.\n",
              "          quickchartButtonEl.classList.add('colab-df-spinner');\n",
              "          try {\n",
              "            const charts = await google.colab.kernel.invokeFunction(\n",
              "                'suggestCharts', [key], {});\n",
              "          } catch (error) {\n",
              "            console.error('Error during call to suggestCharts:', error);\n",
              "          }\n",
              "          quickchartButtonEl.classList.remove('colab-df-spinner');\n",
              "          quickchartButtonEl.classList.add('colab-df-quickchart-complete');\n",
              "        }\n",
              "        (() => {\n",
              "          let quickchartButtonEl =\n",
              "            document.querySelector('#df-0a162adb-1ec2-4337-8293-c147eb4416fe button');\n",
              "          quickchartButtonEl.style.display =\n",
              "            google.colab.kernel.accessAllowed ? 'block' : 'none';\n",
              "        })();\n",
              "      </script>\n",
              "    </div>\n",
              "\n",
              "    </div>\n",
              "  </div>\n"
            ],
            "application/vnd.google.colaboratory.intrinsic+json": {
              "type": "dataframe",
              "summary": "{\n  \"name\": \"df\",\n  \"rows\": 20,\n  \"fields\": [\n    {\n      \"column\": \"text\",\n      \"properties\": {\n        \"dtype\": \"string\",\n        \"num_unique_values\": 16,\n        \"samples\": [\n          \"How can I request my data under GDPR?\",\n          \"Website returns 500 error on checkout.\",\n          \"Please provide onboarding training for my team.\"\n        ],\n        \"semantic_type\": \"\",\n        \"description\": \"\"\n      }\n    },\n    {\n      \"column\": \"label\",\n      \"properties\": {\n        \"dtype\": \"category\",\n        \"num_unique_values\": 4,\n        \"samples\": [\n          \"Technical\",\n          \"Billing\",\n          \"Other\"\n        ],\n        \"semantic_type\": \"\",\n        \"description\": \"\"\n      }\n    },\n    {\n      \"column\": \"ticket_id\",\n      \"properties\": {\n        \"dtype\": \"number\",\n        \"std\": 5,\n        \"min\": 1500,\n        \"max\": 1519,\n        \"num_unique_values\": 20,\n        \"samples\": [\n          1500,\n          1517,\n          1515\n        ],\n        \"semantic_type\": \"\",\n        \"description\": \"\"\n      }\n    },\n    {\n      \"column\": \"agent_name\",\n      \"properties\": {\n        \"dtype\": \"category\",\n        \"num_unique_values\": 4,\n        \"samples\": [\n          \"Charlie\",\n          \"Dana\",\n          \"Alice\"\n        ],\n        \"semantic_type\": \"\",\n        \"description\": \"\"\n      }\n    }\n  ]\n}"
            }
          },
          "metadata": {},
          "execution_count": 32
        }
      ]
    },
    {
      "cell_type": "code",
      "source": [
        "# Visualizing the text and label column\n",
        "# Count the number of tickets for each label\n",
        "label_counts = df['label'].value_counts()\n",
        "\n",
        "# Plot a bar chart\n",
        "plt.figure(figsize=(5,2))\n",
        "plt.bar(label_counts.index, label_counts.values)\n",
        "plt.xlabel('Label')\n",
        "plt.ylabel('Count')\n",
        "plt.title('Distribution of Ticket Labels')\n",
        "plt.show()"
      ],
      "metadata": {
        "colab": {
          "base_uri": "https://localhost:8080/",
          "height": 256
        },
        "id": "rlxcBE2_t7Eh",
        "outputId": "b98b19f6-13df-4e5e-d76d-5acb177b927d"
      },
      "execution_count": 27,
      "outputs": [
        {
          "output_type": "display_data",
          "data": {
            "text/plain": [
              "<Figure size 500x200 with 1 Axes>"
            ],
            "image/png": "[encoded data removed]"
          },
          "metadata": {}
        }
      ]
    },
    {
      "cell_type": "code",
      "source": [
        "# Plot agent performance to show the performance of each agent in terms of the number of tickets handled\n",
        "agent_name_counts = df['agent_name'].value_counts()\n",
        "plt.figure(figsize=(5,2))\n",
        "plt.bar(agent_name_counts.index, agent_name_counts.values)\n",
        "plt.xlabel('Agent Name')\n",
        "plt.ylabel('Number of Tickets')\n",
        "plt.title('Agent Performance')\n",
        "plt.show()"
      ],
      "metadata": {
        "colab": {
          "base_uri": "https://localhost:8080/",
          "height": 256
        },
        "id": "-IkZwj-yx9MU",
        "outputId": "1642d4a7-e97b-4bd9-95e7-0827e4f3ed7e"
      },
      "execution_count": 33,
      "outputs": [
        {
          "output_type": "display_data",
          "data": {
            "text/plain": [
              "<Figure size 500x200 with 1 Axes>"
            ],
            "image/png": "[encoded data removed]"
          },
          "metadata": {}
        }
      ]
    },
    {
      "cell_type": "code",
      "source": [
        "from collections import Counter\n",
        "import nltk\n",
        "from nltk.corpus import stopwords\n",
        "nltk.download('stopwords')"
      ],
      "metadata": {
        "colab": {
          "base_uri": "https://localhost:8080/"
        },
        "id": "CuPMcICY1gB0",
        "outputId": "a839193f-5f24-46d0-e35f-1308f20abc89"
      },
      "execution_count": 35,
      "outputs": [
        {
          "output_type": "stream",
          "name": "stderr",
          "text": [
            "[nltk_data] Downloading package stopwords to /root/nltk_data...\n",
            "[nltk_data]   Package stopwords is already up-to-date!\n"
          ]
        },
        {
          "output_type": "execute_result",
          "data": {
            "text/plain": [
              "True"
            ]
          },
          "metadata": {},
          "execution_count": 35
        }
      ]
    },
    {
      "cell_type": "code",
      "source": [
        "# Function to preprocess text data\n",
        "def preprocess_text(text):\n",
        "    text = text.lower()\n",
        "    text = re.sub(r'[^a-zA-Z0-9\\s]', '', text)\n",
        "    tokens = text.split()\n",
        "    stop_words = set(stopwords.words('english'))\n",
        "    tokens = [token for token in tokens if token not in stop_words]\n",
        "    return tokens\n",
        "\n",
        "# Function to preprocess text data\n",
        "def preprocess_text(text):\n",
        "    stop_words = set(stopwords.words('english'))\n",
        "    text = [word.lower() for word in text if word.isalpha() and word.lower() not in stop_words]\n",
        "    return text\n",
        "\n",
        "# Preprocess the text data\n",
        "df['text'] = df['text'].apply(preprocess_text)\n",
        "\n",
        "# Extract keywords/complaints\n",
        "keywords = []\n",
        "for text in df['text']:\n",
        "    keywords.extend(text)\n",
        "\n",
        "# Count the frequency of each keyword\n",
        "keyword_counts = Counter(keywords)\n",
        "\n",
        "# Get the top 10 most common keywords\n",
        "top_keywords = keyword_counts.most_common(10)\n",
        "\n",
        "# Separate the keywords and their frequencies\n",
        "keywords, frequencies = zip(*top_keywords)\n",
        "\n",
        "# Plot the top complaints chart\n",
        "plt.figure(figsize=(5,2))\n",
        "plt.bar(keywords, frequencies)\n",
        "plt.xlabel('Complaint/Keyword')\n",
        "plt.ylabel('Frequency')\n",
        "plt.title('Top Complaints')\n",
        "plt.xticks(rotation=90)\n",
        "plt.show()"
      ],
      "metadata": {
        "colab": {
          "base_uri": "https://localhost:8080/",
          "height": 316
        },
        "id": "eYfSy9wm3_EQ",
        "outputId": "0c936984-a320-4011-b353-efc2a2b9943a"
      },
      "execution_count": 38,
      "outputs": [
        {
          "output_type": "display_data",
          "data": {
            "text/plain": [
              "<Figure size 500x200 with 1 Axes>"
            ],
            "image/png": "[encoded data removed]"
          },
          "metadata": {}
        }
      ]
    },
    {
      "cell_type": "markdown",
      "source": [
        "## **Train/test split**"
      ],
      "metadata": {
        "id": "R4DcXLPnVKhn"
      }
    },
    {
      "cell_type": "code",
      "source": [
        "# prepare data and split\n",
        "X = df['text'].astype(str).values\n",
        "y = df['label'].astype(str).values\n",
        "\n",
        "X_train, X_test, y_train, y_test = train_test_split(\n",
        "    X, y, test_size=0.20, random_state=42, stratify=y\n",
        ")\n",
        "\n",
        "print(\"Train:\", len(X_train), \"Test:\", len(X_test))\n",
        "import collections\n",
        "print(\"Train label distribution:\", dict(collections.Counter(y_train)))\n",
        "print(\"Test label distribution:\", dict(collections.Counter(y_test)))\n"
      ],
      "metadata": {
        "colab": {
          "base_uri": "https://localhost:8080/"
        },
        "id": "iyGcFJk8QVvm",
        "outputId": "784a1593-e649-4603-dffb-58c52dd0f266"
      },
      "execution_count": 43,
      "outputs": [
        {
          "output_type": "stream",
          "name": "stdout",
          "text": [
            "Train: 416 Test: 104\n",
            "Train label distribution: {'Technical': 100, 'Account': 98, 'Other': 102, 'Billing': 96, 'unknown': 20}\n",
            "Test label distribution: {'Billing': 24, 'Account': 24, 'unknown': 5, 'Technical': 25, 'Other': 26}\n"
          ]
        }
      ]
    },
    {
      "cell_type": "markdown",
      "source": [
        "## Majority Classifier baseline"
      ],
      "metadata": {
        "id": "K8Dq0J0MV6s7"
      }
    },
    {
      "cell_type": "code",
      "source": [
        "from sklearn.dummy import DummyClassifier\n",
        "from sklearn.feature_extraction.text import TfidfVectorizer\n",
        "from sklearn.linear_model import LogisticRegression\n",
        "from sklearn.metrics import accuracy_score, f1_score, confusion_matrix, classification_report\n",
        "import joblib"
      ],
      "metadata": {
        "id": "c6gB8vWSUaYL"
      },
      "execution_count": 41,
      "outputs": []
    },
    {
      "cell_type": "code",
      "source": [
        "# Majority classifier baseline\n",
        "dummy = DummyClassifier(strategy='most_frequent', random_state=42)\n",
        "# Dummy expects 2D input, so pass reshaped arrays\n",
        "dummy.fit(X_train.reshape(-1,1), y_train)\n",
        "y_dummy_pred = dummy.predict(X_test.reshape(-1,1))\n",
        "\n",
        "acc_dummy = accuracy_score(y_test, y_dummy_pred)\n",
        "f1_dummy = f1_score(y_test, y_dummy_pred, average='weighted', zero_division=0)\n",
        "cr_dummy = classification_report(y_test, y_dummy_pred, zero_division=0)\n",
        "\n",
        "print(\"Majority Classifier — Accuracy:\", acc_dummy)\n",
        "print(\"Majority Classifier — Weighted F1:\", f1_dummy)\n",
        "print(\"\\nClassification report (Majority):\\n\", cr_dummy)\n",
        "\n"
      ],
      "metadata": {
        "colab": {
          "base_uri": "https://localhost:8080/"
        },
        "id": "hOhskuSGTxJD",
        "outputId": "4c436df4-3b86-449b-da92-6d57842309dd"
      },
      "execution_count": 48,
      "outputs": [
        {
          "output_type": "stream",
          "name": "stdout",
          "text": [
            "Majority Classifier — Accuracy: 0.25\n",
            "Majority Classifier — Weighted F1: 0.1\n",
            "\n",
            "Classification report (Majority):\n",
            "               precision    recall  f1-score   support\n",
            "\n",
            "     Account       0.00      0.00      0.00        24\n",
            "     Billing       0.00      0.00      0.00        24\n",
            "       Other       0.25      1.00      0.40        26\n",
            "   Technical       0.00      0.00      0.00        25\n",
            "     unknown       0.00      0.00      0.00         5\n",
            "\n",
            "    accuracy                           0.25       104\n",
            "   macro avg       0.05      0.20      0.08       104\n",
            "weighted avg       0.06      0.25      0.10       104\n",
            "\n"
          ]
        }
      ]
    },
    {
      "cell_type": "markdown",
      "source": [
        "## TF-IDF + Logistic Regression"
      ],
      "metadata": {
        "id": "e1LLF8j_WH9T"
      }
    },
    {
      "cell_type": "code",
      "source": [
        "# Colab cell 6: TF-IDF vectorizer + Logistic Regression\n",
        "tfidf = TfidfVectorizer(max_features=20000, ngram_range=(1,2), stop_words='english')\n",
        "X_train_tfidf = tfidf.fit_transform(X_train)\n",
        "X_test_tfidf  = tfidf.transform(X_test)\n",
        "\n",
        "logreg = LogisticRegression(max_iter=1000, random_state=42)\n",
        "logreg.fit(X_train_tfidf, y_train)\n",
        "y_lr_pred = logreg.predict(X_test_tfidf)\n",
        "\n",
        "acc_lr = accuracy_score(y_test, y_lr_pred)\n",
        "f1_lr = f1_score(y_test, y_lr_pred, average='weighted', zero_division=0)\n",
        "cr_lr = classification_report(y_test, y_lr_pred, zero_division=0)\n",
        "\n",
        "print(\"TF-IDF + LogisticRegression — Accuracy:\", acc_lr)\n",
        "print(\"TF-IDF + LogisticRegression — Weighted F1:\", f1_lr)\n",
        "print(\"\\nClassification report (TF-IDF + LR):\\n\", cr_lr)\n",
        "\n"
      ],
      "metadata": {
        "colab": {
          "base_uri": "https://localhost:8080/"
        },
        "id": "7nc7cDhGQU64",
        "outputId": "f8304e2f-7d3f-416b-e7ee-a1717085b41e"
      },
      "execution_count": 49,
      "outputs": [
        {
          "output_type": "stream",
          "name": "stdout",
          "text": [
            "TF-IDF + LogisticRegression — Accuracy: 0.9038461538461539\n",
            "TF-IDF + LogisticRegression — Weighted F1: 0.8811774164522319\n",
            "\n",
            "Classification report (TF-IDF + LR):\n",
            "               precision    recall  f1-score   support\n",
            "\n",
            "     Account       0.91      0.83      0.87        24\n",
            "     Billing       0.83      1.00      0.91        24\n",
            "       Other       0.93      1.00      0.96        26\n",
            "   Technical       0.96      0.96      0.96        25\n",
            "     unknown       0.00      0.00      0.00         5\n",
            "\n",
            "    accuracy                           0.90       104\n",
            "   macro avg       0.73      0.76      0.74       104\n",
            "weighted avg       0.86      0.90      0.88       104\n",
            "\n"
          ]
        }
      ]
    },
    {
      "cell_type": "markdown",
      "source": [
        "## Confusion matrices (visual)"
      ],
      "metadata": {
        "id": "jJ3MrwuIW9xd"
      }
    },
    {
      "cell_type": "code",
      "source": [
        "import json\n",
        "import nbformat\n",
        "\n",
        "# plotting defaults\n",
        "%matplotlib inline\n",
        "plt.rcParams.update({\"figure.dpi\": 120})\n",
        "\n",
        "# Create artifacts dir\n",
        "os.makedirs(\"artifacts\", exist_ok=True)\n",
        "print(\"Artifacts directory:\", os.path.abspath(\"artifacts\"))"
      ],
      "metadata": {
        "colab": {
          "base_uri": "https://localhost:8080/"
        },
        "id": "Nk7Vazxfmxi9",
        "outputId": "839b1ed9-a63f-4f4e-fd98-19ee2f7dda63"
      },
      "execution_count": 51,
      "outputs": [
        {
          "output_type": "stream",
          "name": "stdout",
          "text": [
            "Artifacts directory: /content/artifacts\n"
          ]
        }
      ]
    },
    {
      "cell_type": "code",
      "source": [
        "# Colab cell 7: confusion matrices plotted and saved\n",
        "labels = sorted(list(set(y)))  # alphabetical order; modify if you want custom order\n",
        "cm_dummy = confusion_matrix(y_test, y_dummy_pred, labels=labels)\n",
        "cm_lr    = confusion_matrix(y_test, y_lr_pred, labels=labels)\n",
        "\n",
        "# Plot and save\n",
        "fig, axes = plt.subplots(1, 2, figsize=(14,5))\n",
        "im0 = axes[0].imshow(cm_dummy, interpolation='nearest', aspect='auto')\n",
        "axes[0].set_title('Confusion Matrix — Majority Classifier')\n",
        "axes[0].set_xlabel('Predicted'); axes[0].set_ylabel('True')\n",
        "axes[0].set_xticks(range(len(labels))); axes[0].set_xticklabels(labels, rotation=45, ha='right')\n",
        "axes[0].set_yticks(range(len(labels))); axes[0].set_yticklabels(labels)\n",
        "for i in range(cm_dummy.shape[0]):\n",
        "    for j in range(cm_dummy.shape[1]):\n",
        "        axes[0].text(j, i, str(cm_dummy[i,j]), ha='center', va='center', color='white' if cm_dummy[i,j]>cm_dummy.max()/2 else 'black')\n",
        "\n",
        "im1 = axes[1].imshow(cm_lr, interpolation='nearest', aspect='auto')\n",
        "axes[1].set_title('Confusion Matrix — TF-IDF + Logistic Regression')\n",
        "axes[1].set_xlabel('Predicted'); axes[1].set_ylabel('True')\n",
        "axes[1].set_xticks(range(len(labels))); axes[1].set_xticklabels(labels, rotation=45, ha='right')\n",
        "axes[1].set_yticks(range(len(labels))); axes[1].set_yticklabels(labels)\n",
        "for i in range(cm_lr.shape[0]):\n",
        "    for j in range(cm_lr.shape[1]):\n",
        "        axes[1].text(j, i, str(cm_lr[i,j]), ha='center', va='center', color='white' if cm_lr[i,j]>cm_lr.max()/2 else 'black')\n",
        "\n",
        "plt.tight_layout()\n",
        "cm_dummy_path = \"artifacts/confusion_matrix_majority.png\"\n",
        "cm_lr_path = \"artifacts/confusion_matrix_logreg.png\"\n",
        "fig.savefig(\"artifacts/confusion_matrices_side_by_side.png\", bbox_inches='tight')\n",
        "plt.show()\n",
        "\n",
        "# Also save each individually (optional)\n",
        "plt.imsave(cm_dummy_path, cm_dummy, cmap='Blues')\n",
        "plt.imsave(cm_lr_path, cm_lr, cmap='Greens')\n",
        "\n",
        "print(\"Saved confusion matrix images to artifacts/.\")\n",
        "print(cm_dummy_path)\n",
        "print(cm_lr_path)\n",
        "\n"
      ],
      "metadata": {
        "colab": {
          "base_uri": "https://localhost:8080/",
          "height": 468
        },
        "id": "o0d9zakIXDEw",
        "outputId": "824bf49c-bd40-4010-ef7e-b6a6ca9a77a2"
      },
      "execution_count": 52,
      "outputs": [
        {
          "output_type": "display_data",
          "data": {
            "text/plain": [
              "<Figure size 1680x600 with 2 Axes>"
            ],
            "image/png": "[encoded data removed]"
          },
          "metadata": {}
        },
        {
          "output_type": "stream",
          "name": "stdout",
          "text": [
            "Saved confusion matrix images to artifacts/.\n",
            "artifacts/confusion_matrix_majority.png\n",
            "artifacts/confusion_matrix_logreg.png\n"
          ]
        }
      ]
    },
    {
      "cell_type": "markdown",
      "source": [
        "## Save metrics JSON (artifacts/baseline_metrics.json)"
      ],
      "metadata": {
        "id": "diI8SYKDX7vM"
      }
    },
    {
      "cell_type": "code",
      "source": [
        "# Colab cell 8: Save evaluation metrics and some metadata to JSON\n",
        "metrics = {\n",
        "    \"majority\": {\n",
        "        \"accuracy\": float(acc_dummy),\n",
        "        \"weighted_f1\": float(f1_dummy),\n",
        "        \"classification_report\": cr_dummy\n",
        "    },\n",
        "    \"tfidf_logreg\": {\n",
        "        \"accuracy\": float(acc_lr),\n",
        "        \"weighted_f1\": float(f1_lr),\n",
        "        \"classification_report\": cr_lr\n",
        "    },\n",
        "    \"n_samples\": int(len(df)),\n",
        "    \"train_size\": int(len(X_train)),\n",
        "    \"test_size\": int(len(X_test)),\n",
        "    \"labels\": labels\n",
        "}\n",
        "\n",
        "metrics_path = \"artifacts/baseline_metrics.json\"\n",
        "with open(metrics_path, \"w\", encoding=\"utf-8\") as f:\n",
        "    json.dump(metrics, f, indent=2)\n",
        "\n",
        "print(\"Saved metrics JSON to:\", metrics_path)\n"
      ],
      "metadata": {
        "colab": {
          "base_uri": "https://localhost:8080/"
        },
        "id": "6xwoSYGgYGBE",
        "outputId": "2c06824b-7933-48f2-b4dd-0b7ee2e59996"
      },
      "execution_count": 53,
      "outputs": [
        {
          "output_type": "stream",
          "name": "stdout",
          "text": [
            "Saved metrics JSON to: artifacts/baseline_metrics.json\n"
          ]
        }
      ]
    },
    {
      "cell_type": "markdown",
      "source": [
        "Save models (vectorizer + logistic regression)"
      ],
      "metadata": {
        "id": "yXjV-H4rn8R1"
      }
    },
    {
      "cell_type": "code",
      "source": [
        "# Colab cell 9: save the TF-IDF vectorizer and trained LR model\n",
        "os.makedirs(\"artifacts/models\", exist_ok=True)\n",
        "vec_path = \"artifacts/models/tfidf_vectorizer.joblib\"\n",
        "model_path = \"artifacts/models/logreg_tfidf.joblib\"\n",
        "\n",
        "joblib.dump(tfidf, vec_path)\n",
        "joblib.dump(logreg, model_path)\n",
        "\n",
        "print(\"Saved vectorizer to:\", vec_path)\n",
        "print(\"Saved model to:\", model_path)\n"
      ],
      "metadata": {
        "colab": {
          "base_uri": "https://localhost:8080/"
        },
        "id": "8LAKhma5n-nX",
        "outputId": "dca4cdd2-1520-4919-b620-ffaf0ab21650"
      },
      "execution_count": 54,
      "outputs": [
        {
          "output_type": "stream",
          "name": "stdout",
          "text": [
            "Saved vectorizer to: artifacts/models/tfidf_vectorizer.joblib\n",
            "Saved model to: artifacts/models/logreg_tfidf.joblib\n"
          ]
        }
      ]
    },
    {
      "cell_type": "markdown",
      "source": [
        "### Build a Baseline Performance Report (Markdown) and save"
      ],
      "metadata": {
        "id": "MG9K50gRoJVO"
      }
    },
    {
      "cell_type": "code",
      "source": [
        "# Colab cell 10: create a simple markdown report summarizing results\n",
        "# Build and save the Baseline Performance Report (fixed & complete)\n",
        "report_md = f\"\"\"\n",
        "# Baseline Performance Report\n",
        "\n",
        "**Dataset:** customer_support_tickets_clean_500.csv\n",
        "**Total samples:** {len(df)}\n",
        "**Train size:** {len(X_train)}\n",
        "**Test size:** {len(X_test)}\n",
        "\n",
        "---\n",
        "\n",
        "## Models\n",
        "### 1) Majority Classifier (most_frequent)\n",
        "- Accuracy: {metrics['majority']['accuracy']:.4f}\n",
        "- Weighted F1: {metrics['majority']['weighted_f1']:.4f}\n",
        "\n",
        "### 2) TF-IDF + Logistic Regression\n",
        "- Accuracy: {metrics['tfidf_logreg']['accuracy']:.4f}\n",
        "- Weighted F1: {metrics['tfidf_logreg']['weighted_f1']:.4f}\n",
        "\n",
        "---\n",
        "\n",
        "## Classification reports\n",
        "\n",
        "### Majority Classifier\n",
        "\"\"\""
      ],
      "metadata": {
        "id": "BF_5ffnloMQH"
      },
      "execution_count": 61,
      "outputs": []
    },
    {
      "cell_type": "code",
      "source": [],
      "metadata": {
        "id": "w6mPFJ_-sYO1"
      },
      "execution_count": null,
      "outputs": []
    },
    {
      "cell_type": "markdown",
      "metadata": {
        "id": "701cf744"
      },
      "source": [
        "{metrics['tfidf_logreg']['classification_report']}"
      ]
    },
    {
      "cell_type": "code",
      "source": [
        "\n",
        "### TF-IDF + Logistic Regression\n"
      ],
      "metadata": {
        "id": "s_eDGMMisspA"
      },
      "execution_count": 63,
      "outputs": []
    },
    {
      "cell_type": "code",
      "source": [
        "# Colab cell 11: create a copy of this pipeline as an .ipynb (02_baseline_models.ipynb)\n",
        "nb = nbformat.v4.new_notebook()\n",
        "\n",
        "# Prepare an ordered list of the key code cells (these strings mirror earlier cells)\n",
        "cells = []\n",
        "\n",
        "cells.append(nbformat.v4.new_markdown_cell(\"# Baseline models notebook\\nThis notebook trains a Majority Classifier and TF-IDF + Logistic Regression, evaluates them, and saves artifacts.\"))\n",
        "cells.append(nbformat.v4.new_code_cell(\"\"\"# (1) Imports & setup\n",
        "\n",
        "%matplotlib inline\n",
        "os.makedirs('artifacts', exist_ok=True)\n",
        "\"\"\"))\n",
        "\n",
        "cells.append(nbformat.v4.new_code_cell(\"\"\"# (2) Load data\n",
        "csv_path = 'REPLACE_WITH_YOUR_CSV_PATH'  # change this\n",
        "df = pd.read_csv(csv_path)\n",
        "df = df.dropna(subset=['text','label']).reset_index(drop=True)\n",
        "X = df['text'].astype(str).values\n",
        "y = df['label'].astype(str).values\n",
        "X_train, X_test, y_train, y_test = train_test_split(X,y,test_size=0.2, stratify=y, random_state=42)\n",
        "\"\"\"))\n",
        "\n",
        "cells.append(nbformat.v4.new_code_cell(\"\"\"# (3) Majority Classifier\n",
        "dummy = DummyClassifier(strategy='most_frequent', random_state=42)\n",
        "dummy.fit(X_train.reshape(-1,1), y_train)\n",
        "y_dummy_pred = dummy.predict(X_test.reshape(-1,1))\n",
        "print('Accuracy:', accuracy_score(y_test, y_dummy_pred))\n",
        "print('Weighted F1:', f1_score(y_test, y_dummy_pred, average='weighted', zero_division=0))\n",
        "print('\\\\n', classification_report(y_test, y_dummy_pred, zero_division=0))\n",
        "\"\"\"))\n",
        "\n",
        "cells.append(nbformat.v4.new_code_cell(\"\"\"# (4) TF-IDF + Logistic Regression\n",
        "tfidf = TfidfVectorizer(max_features=20000, ngram_range=(1,2), stop_words='english')\n",
        "X_train_tfidf = tfidf.fit_transform(X_train)\n",
        "X_test_tfidf = tfidf.transform(X_test)\n",
        "logreg = LogisticRegression(max_iter=1000, random_state=42)\n",
        "logreg.fit(X_train_tfidf, y_train)\n",
        "y_lr_pred = logreg.predict(X_test_tfidf)\n",
        "print('Accuracy:', accuracy_score(y_test, y_lr_pred))\n",
        "print('Weighted F1:', f1_score(y_test, y_lr_pred, average='weighted', zero_division=0))\n",
        "print('\\\\n', classification_report(y_test, y_lr_pred, zero_division=0))\n",
        "\"\"\"))\n",
        "\n",
        "cells.append(nbformat.v4.new_code_cell(\"\"\"# (5) Save metrics (example)\n",
        "metrics = {'accuracy': accuracy_score(y_test, y_lr_pred), 'weighted_f1': f1_score(y_test,y_lr_pred, average='weighted')}\n",
        "with open('artifacts/baseline_metrics.json','w') as f:\n",
        "    json.dump(metrics, f, indent=2)\n",
        "print('Saved metrics to artifacts/baseline_metrics.json')\n",
        "\"\"\"))\n",
        "\n",
        "nb['cells'] = cells\n",
        "nb_path = \"02_baseline_models.ipynb\"\n",
        "with open(nb_path, 'w', encoding='utf-8') as f:\n",
        "    nbformat.write(nb, f)\n",
        "\n",
        "print(\"Saved notebook to:\", nb_path)\n"
      ],
      "metadata": {
        "colab": {
          "base_uri": "https://localhost:8080/"
        },
        "id": "RG95artasby6",
        "outputId": "69eeb327-8216-438c-b30b-20ce31940602"
      },
      "execution_count": 64,
      "outputs": [
        {
          "output_type": "stream",
          "name": "stdout",
          "text": [
            "Saved notebook to: 02_baseline_models.ipynb\n"
          ]
        }
      ]
    },
    {
      "cell_type": "markdown",
      "source": [
        "#Week 3 — Transformer Model Fine-Tuning"
      ],
      "metadata": {
        "id": "5t8n1XiNts6o"
      }
    },
    {
      "cell_type": "markdown",
      "source": [
        "Install packages (run once)"
      ],
      "metadata": {
        "id": "M6EA02TkuRjv"
      }
    },
    {
      "cell_type": "code",
      "source": [
        "# Colab cell 1 - install dependencies\n",
        "!pip install --quiet transformers datasets evaluate accelerate scikit-learn torch torchvision nbformat\n",
        "\n",
        "# show torch GPU availability\n",
        "import torch\n",
        "print(\"torch.__version__:\", torch.__version__)\n",
        "print(\"CUDA available:\", torch.cuda.is_available())\n"
      ],
      "metadata": {
        "colab": {
          "base_uri": "https://localhost:8080/"
        },
        "id": "RBpr-TMLtvTm",
        "outputId": "b03a8342-14ea-44a2-b04b-16a89af0263c"
      },
      "execution_count": 65,
      "outputs": [
        {
          "output_type": "stream",
          "name": "stdout",
          "text": [
            "\u001b[?25l   \u001b[90m━━━━━━━━━━━━━━━━━━━━━━━━━━━━━━━━━━━━━━━━\u001b[0m \u001b[32m0.0/84.1 kB\u001b[0m \u001b[31m?\u001b[0m eta \u001b[36m-:--:--\u001b[0m\r\u001b[2K   \u001b[90m━━━━━━━━━━━━━━━━━━━━━━━━━━━━━━━━━━━━━━━━\u001b[0m \u001b[32m84.1/84.1 kB\u001b[0m \u001b[31m3.0 MB/s\u001b[0m eta \u001b[36m0:00:00\u001b[0m\n",
            "\u001b[?25htorch.__version__: 2.8.0+cu126\n",
            "CUDA available: False\n"
          ]
        }
      ]
    },
    {
      "cell_type": "code",
      "source": [
        "from datasets import Dataset, DatasetDict\n",
        "from transformers import (DistilBertTokenizerFast, DistilBertForSequenceClassification,\n",
        "                          TrainingArguments, Trainer, DataCollatorWithPadding, set_seed)\n",
        "\n",
        "# reproducibility\n",
        "SEED = 42\n",
        "set_seed(SEED)\n",
        "\n",
        "# hyperparameters (change NUM_EPOCHS to 3 or 5 if you prefer)\n",
        "NUM_EPOCHS = 4\n",
        "MODEL_NAME = \"distilbert-base-uncased\"\n",
        "OUTPUT_DIR = \"models/distilbert-ticket-classifier\"\n",
        "ARTIFACTS_DIR = \"artifacts\"\n",
        "os.makedirs(ARTIFACTS_DIR, exist_ok=True)\n",
        "os.makedirs(OUTPUT_DIR, exist_ok=True)\n",
        "\n",
        "print(\"Artifacts directory:\", ARTIFACTS_DIR)\n",
        "print(\"Model output directory:\", OUTPUT_DIR)"
      ],
      "metadata": {
        "colab": {
          "base_uri": "https://localhost:8080/"
        },
        "id": "FT_2Ecphuz5v",
        "outputId": "22a387ad-1f24-45a1-ed33-68ea5ca8c8c8"
      },
      "execution_count": 66,
      "outputs": [
        {
          "output_type": "stream",
          "name": "stdout",
          "text": [
            "Artifacts directory: artifacts\n",
            "Model output directory: models/distilbert-ticket-classifier\n"
          ]
        }
      ]
    },
    {
      "cell_type": "markdown",
      "source": [
        "Train/test split and convert to HuggingFace Datasets"
      ],
      "metadata": {
        "id": "DtFQXWJ2z7HV"
      }
    },
    {
      "cell_type": "code",
      "source": [
        "# Colab cell 5 - stratified split and HF Dataset\n",
        "\n",
        "# ensure labels are strings\n",
        "df['label'] = df['label'].astype(str).str.strip()\n",
        "\n",
        "# create label2id and id2label maps\n",
        "labels = sorted(df['label'].unique().tolist())\n",
        "label2id = {lab: i for i, lab in enumerate(labels)}\n",
        "id2label = {i: lab for lab, i in label2id.items()}\n",
        "\n",
        "print(\"Labels:\", labels)\n",
        "print(\"Label2id:\", label2id)\n",
        "\n",
        "# optional: quick class counts\n",
        "from collections import Counter\n",
        "print(\"Class counts:\", dict(Counter(df['label'].values)))\n",
        "\n",
        "X = df['text'].astype(str).values\n",
        "y = df['label'].astype(str).values\n",
        "\n",
        "X_train, X_test, y_train, y_test = train_test_split(\n",
        "    X, y, test_size=0.20, random_state=SEED, stratify=y\n",
        ")\n",
        "\n",
        "train_df = pd.DataFrame({\"text\": X_train, \"label\": [label2id[l] for l in y_train]})\n",
        "test_df  = pd.DataFrame({\"text\": X_test,  \"label\": [label2id[l] for l in y_test]})\n",
        "\n",
        "hf_train = Dataset.from_pandas(train_df)\n",
        "hf_test  = Dataset.from_pandas(test_df)\n",
        "\n",
        "dataset_dict = DatasetDict({\"train\": hf_train, \"test\": hf_test})\n",
        "print(dataset_dict)\n"
      ],
      "metadata": {
        "colab": {
          "base_uri": "https://localhost:8080/"
        },
        "id": "h8x3PaR0z8sU",
        "outputId": "4ccec1b5-7462-4462-cd21-6fb5e71d95a0"
      },
      "execution_count": 70,
      "outputs": [
        {
          "output_type": "stream",
          "name": "stdout",
          "text": [
            "Labels: ['Account', 'Billing', 'Other', 'Technical', 'unknown']\n",
            "Label2id: {'Account': 0, 'Billing': 1, 'Other': 2, 'Technical': 3, 'unknown': 4}\n",
            "Class counts: {'Other': 128, 'Billing': 120, 'Technical': 125, 'Account': 122, 'unknown': 25}\n",
            "DatasetDict({\n",
            "    train: Dataset({\n",
            "        features: ['text', 'label'],\n",
            "        num_rows: 416\n",
            "    })\n",
            "    test: Dataset({\n",
            "        features: ['text', 'label'],\n",
            "        num_rows: 104\n",
            "    })\n",
            "})\n"
          ]
        }
      ]
    },
    {
      "cell_type": "markdown",
      "source": [
        "Tokenization"
      ],
      "metadata": {
        "id": "2uT8aCWivzIx"
      }
    },
    {
      "cell_type": "code",
      "source": [
        "# Colab cell 6 - tokenizer and tokenization\n",
        "tokenizer = DistilBertTokenizerFast.from_pretrained(MODEL_NAME)\n",
        "\n",
        "def preprocess(batch):\n",
        "    return tokenizer(batch[\"text\"], truncation=True, padding=False, max_length=128)\n",
        "\n",
        "# tokenize datasets (batched)\n",
        "tokenized_datasets = dataset_dict.map(preprocess, batched=True, remove_columns=[\"text\"])\n",
        "# set format to PyTorch tensors later via Trainer automatically when using DataCollator\n",
        "print(tokenized_datasets)\n"
      ],
      "metadata": {
        "colab": {
          "base_uri": "https://localhost:8080/",
          "height": 255,
          "referenced_widgets": [
            "84887d8cdcce4e1292acc1de4ed6098a",
            "5184a00d5f0841cca6440335465da850",
            "1f2f34c154da466aab2ffecf86acc56e",
            "22e624bc5f5b4ae3bd393fd094a17dc7",
            "1e077fc4a10a434fac9d5703cec2263a",
            "a4e92054ec6e4e60bb72906c32669538",
            "7c1627a3df1247b291defb048de1ae0f",
            "94096660a588498c932f4fcc345968d9",
            "f43a3c06129e48ebadbb5d99bef7532f",
            "56466d042f7445c5b045d3cb1c1ff017",
            "4251f8053a0e4bda9aeef75f703bc879",
            "dd752e4b04ba40eca66e53f7ef10c2f0",
            "b1690738792341d4bc27791d5ed30d02",
            "4b328491f4c3493e9214fa5cb808578a",
            "31642a0fcbf54f88a38d8b6b4699cd06",
            "320f4e6a880d4c80809c7db4dd7a01f0",
            "a7c933182fd743cb810fe502b20dc291",
            "104ee71578724762a8c6f7dffcf8a0e7",
            "703fb0845efe41e2af283c7e8c402f6c",
            "17b068189ea9499c959d357018fdc245",
            "1742714aea1f45f481653f1d5f09d427",
            "4bdd7f7983a04a16bb6d38ebd7eedb73"
          ]
        },
        "id": "8U8SCM-2xwqb",
        "outputId": "19992d51-27fa-4aba-d6b5-5cc0f3d4a4d8"
      },
      "execution_count": 71,
      "outputs": [
        {
          "output_type": "display_data",
          "data": {
            "text/plain": [
              "Map:   0%|          | 0/416 [00:00<?, ? examples/s]"
            ],
            "application/vnd.jupyter.widget-view+json": {
              "version_major": 2,
              "version_minor": 0,
              "model_id": "84887d8cdcce4e1292acc1de4ed6098a"
            }
          },
          "metadata": {}
        },
        {
          "output_type": "display_data",
          "data": {
            "text/plain": [
              "Map:   0%|          | 0/104 [00:00<?, ? examples/s]"
            ],
            "application/vnd.jupyter.widget-view+json": {
              "version_major": 2,
              "version_minor": 0,
              "model_id": "dd752e4b04ba40eca66e53f7ef10c2f0"
            }
          },
          "metadata": {}
        },
        {
          "output_type": "stream",
          "name": "stdout",
          "text": [
            "DatasetDict({\n",
            "    train: Dataset({\n",
            "        features: ['label', 'input_ids', 'attention_mask'],\n",
            "        num_rows: 416\n",
            "    })\n",
            "    test: Dataset({\n",
            "        features: ['label', 'input_ids', 'attention_mask'],\n",
            "        num_rows: 104\n",
            "    })\n",
            "})\n"
          ]
        }
      ]
    },
    {
      "cell_type": "markdown",
      "source": [
        "Data collator and model init"
      ],
      "metadata": {
        "id": "kxVgwC8y09so"
      }
    },
    {
      "cell_type": "code",
      "source": [
        "# Colab cell 7 - data collator and model\n",
        "data_collator = DataCollatorWithPadding(tokenizer=tokenizer)\n",
        "\n",
        "model = DistilBertForSequenceClassification.from_pretrained(\n",
        "    MODEL_NAME,\n",
        "    num_labels=len(labels),\n",
        "    id2label={str(k): v for k, v in id2label.items()},  # optional mapping (strings)\n",
        "    label2id={v: k for k, v in label2id.items()}\n",
        ")\n"
      ],
      "metadata": {
        "colab": {
          "base_uri": "https://localhost:8080/",
          "height": 104,
          "referenced_widgets": [
            "2096d32f27fd48d2a67e9e286c69138c",
            "8e15755b7bd6441aa7db78e0df1aa1c8",
            "27aa9edcdefc48a5ad86470db7ed598a",
            "e882db58e0ed4c849bcce5dfed06439e",
            "c2e9f5bfc2a541d3b72ac00c75d082b5",
            "aab7ff8fc8bd4e8f9bb4874853fa106c",
            "838a721ed3b9493b9d84489f08683124",
            "69bee06ce46245ae8aa4cb55ab53cedc",
            "bb775ebc72cf4a1c97c2f80ca004e1ea",
            "95ffca5973614e50b7d50e10423cd860",
            "2b96c4d215c1420d9aca15e301082dcf"
          ]
        },
        "id": "oRvffCa30-8T",
        "outputId": "c2c2ada6-e6f5-43a3-fcbc-a14971398d44"
      },
      "execution_count": 72,
      "outputs": [
        {
          "output_type": "display_data",
          "data": {
            "text/plain": [
              "model.safetensors:   0%|          | 0.00/268M [00:00<?, ?B/s]"
            ],
            "application/vnd.jupyter.widget-view+json": {
              "version_major": 2,
              "version_minor": 0,
              "model_id": "2096d32f27fd48d2a67e9e286c69138c"
            }
          },
          "metadata": {}
        },
        {
          "output_type": "stream",
          "name": "stderr",
          "text": [
            "Some weights of DistilBertForSequenceClassification were not initialized from the model checkpoint at distilbert-base-uncased and are newly initialized: ['classifier.bias', 'classifier.weight', 'pre_classifier.bias', 'pre_classifier.weight']\n",
            "You should probably TRAIN this model on a down-stream task to be able to use it for predictions and inference.\n"
          ]
        }
      ]
    },
    {
      "cell_type": "markdown",
      "source": [
        "Define compute_metrics and TrainingArguments"
      ],
      "metadata": {
        "id": "rQrEpe4Y1MVL"
      }
    },
    {
      "cell_type": "code",
      "source": [
        "# Colab cell 8 - metrics and training args\n",
        "import evaluate\n",
        "\n",
        "# We'll compute accuracy and weighted F1\n",
        "def compute_metrics(eval_pred):\n",
        "    logits, labels = eval_pred\n",
        "    preds = np.argmax(logits, axis=-1)\n",
        "    acc = accuracy_score(labels, preds)\n",
        "    w_f1 = f1_score(labels, preds, average='weighted', zero_division=0)\n",
        "    return {\"accuracy\": acc, \"weighted_f1\": w_f1}\n",
        "\n",
        "# Training arguments - adjust batch sizes if GPU memory is limited\n",
        "training_args = TrainingArguments(\n",
        "    output_dir=OUTPUT_DIR,\n",
        "    eval_strategy=\"epoch\",\n",
        "    save_strategy=\"epoch\",\n",
        "    learning_rate=2e-5,\n",
        "    per_device_train_batch_size=16,  # reduce to 8 if OOM\n",
        "    per_device_eval_batch_size=32,\n",
        "    num_train_epochs=NUM_EPOCHS,\n",
        "    weight_decay=0.01,\n",
        "    load_best_model_at_end=True,\n",
        "    metric_for_best_model=\"weighted_f1\",\n",
        "    greater_is_better=True,\n",
        "    logging_dir=os.path.join(ARTIFACTS_DIR, \"logs\"),\n",
        "    logging_strategy=\"steps\",\n",
        "    logging_steps=50,\n",
        "    save_total_limit=2,\n",
        "    fp16=torch.cuda.is_available(),  # use fp16 if GPU available\n",
        ") # Removed the extra comma here\n",
        "\n",
        "print(training_args)"
      ],
      "metadata": {
        "colab": {
          "base_uri": "https://localhost:8080/"
        },
        "id": "IXy12P8c1NfU",
        "outputId": "05b6dbea-08f1-438e-e592-cb89678512eb"
      },
      "execution_count": 81,
      "outputs": [
        {
          "output_type": "stream",
          "name": "stdout",
          "text": [
            "TrainingArguments(\n",
            "_n_gpu=0,\n",
            "accelerator_config={'split_batches': False, 'dispatch_batches': None, 'even_batches': True, 'use_seedable_sampler': True, 'non_blocking': False, 'gradient_accumulation_kwargs': None, 'use_configured_state': False},\n",
            "adafactor=False,\n",
            "adam_beta1=0.9,\n",
            "adam_beta2=0.999,\n",
            "adam_epsilon=1e-08,\n",
            "auto_find_batch_size=False,\n",
            "average_tokens_across_devices=True,\n",
            "batch_eval_metrics=False,\n",
            "bf16=False,\n",
            "bf16_full_eval=False,\n",
            "data_seed=None,\n",
            "dataloader_drop_last=False,\n",
            "dataloader_num_workers=0,\n",
            "dataloader_persistent_workers=False,\n",
            "dataloader_pin_memory=True,\n",
            "dataloader_prefetch_factor=None,\n",
            "ddp_backend=None,\n",
            "ddp_broadcast_buffers=None,\n",
            "ddp_bucket_cap_mb=None,\n",
            "ddp_find_unused_parameters=None,\n",
            "ddp_timeout=1800,\n",
            "debug=[],\n",
            "deepspeed=None,\n",
            "disable_tqdm=False,\n",
            "do_eval=True,\n",
            "do_predict=False,\n",
            "do_train=False,\n",
            "eval_accumulation_steps=None,\n",
            "eval_delay=0,\n",
            "eval_do_concat_batches=True,\n",
            "eval_on_start=False,\n",
            "eval_steps=None,\n",
            "eval_strategy=IntervalStrategy.EPOCH,\n",
            "eval_use_gather_object=False,\n",
            "fp16=False,\n",
            "fp16_backend=auto,\n",
            "fp16_full_eval=False,\n",
            "fp16_opt_level=O1,\n",
            "fsdp=[],\n",
            "fsdp_config={'min_num_params': 0, 'xla': False, 'xla_fsdp_v2': False, 'xla_fsdp_grad_ckpt': False},\n",
            "fsdp_min_num_params=0,\n",
            "fsdp_transformer_layer_cls_to_wrap=None,\n",
            "full_determinism=False,\n",
            "gradient_accumulation_steps=1,\n",
            "gradient_checkpointing=False,\n",
            "gradient_checkpointing_kwargs=None,\n",
            "greater_is_better=True,\n",
            "group_by_length=False,\n",
            "half_precision_backend=auto,\n",
            "hub_always_push=False,\n",
            "hub_model_id=None,\n",
            "hub_private_repo=None,\n",
            "hub_revision=None,\n",
            "hub_strategy=HubStrategy.EVERY_SAVE,\n",
            "hub_token=<HUB_TOKEN>,\n",
            "ignore_data_skip=False,\n",
            "include_for_metrics=[],\n",
            "include_inputs_for_metrics=False,\n",
            "include_num_input_tokens_seen=no,\n",
            "include_tokens_per_second=False,\n",
            "jit_mode_eval=False,\n",
            "label_names=None,\n",
            "label_smoothing_factor=0.0,\n",
            "learning_rate=2e-05,\n",
            "length_column_name=length,\n",
            "liger_kernel_config=None,\n",
            "load_best_model_at_end=True,\n",
            "local_rank=0,\n",
            "log_level=passive,\n",
            "log_level_replica=warning,\n",
            "log_on_each_node=True,\n",
            "logging_dir=artifacts/logs,\n",
            "logging_first_step=False,\n",
            "logging_nan_inf_filter=True,\n",
            "logging_steps=50,\n",
            "logging_strategy=IntervalStrategy.STEPS,\n",
            "lr_scheduler_kwargs={},\n",
            "lr_scheduler_type=SchedulerType.LINEAR,\n",
            "max_grad_norm=1.0,\n",
            "max_steps=-1,\n",
            "metric_for_best_model=weighted_f1,\n",
            "mp_parameters=,\n",
            "neftune_noise_alpha=None,\n",
            "no_cuda=False,\n",
            "num_train_epochs=4,\n",
            "optim=OptimizerNames.ADAMW_TORCH_FUSED,\n",
            "optim_args=None,\n",
            "optim_target_modules=None,\n",
            "output_dir=models/distilbert-ticket-classifier,\n",
            "overwrite_output_dir=False,\n",
            "parallelism_config=None,\n",
            "past_index=-1,\n",
            "per_device_eval_batch_size=32,\n",
            "per_device_train_batch_size=16,\n",
            "prediction_loss_only=False,\n",
            "project=huggingface,\n",
            "push_to_hub=False,\n",
            "push_to_hub_model_id=None,\n",
            "push_to_hub_organization=None,\n",
            "push_to_hub_token=<PUSH_TO_HUB_TOKEN>,\n",
            "ray_scope=last,\n",
            "remove_unused_columns=True,\n",
            "report_to=['tensorboard', 'wandb'],\n",
            "restore_callback_states_from_checkpoint=False,\n",
            "resume_from_checkpoint=None,\n",
            "run_name=None,\n",
            "save_on_each_node=False,\n",
            "save_only_model=False,\n",
            "save_safetensors=True,\n",
            "save_steps=500,\n",
            "save_strategy=SaveStrategy.EPOCH,\n",
            "save_total_limit=2,\n",
            "seed=42,\n",
            "skip_memory_metrics=True,\n",
            "tf32=None,\n",
            "torch_compile=False,\n",
            "torch_compile_backend=None,\n",
            "torch_compile_mode=None,\n",
            "torch_empty_cache_steps=None,\n",
            "torchdynamo=None,\n",
            "tpu_metrics_debug=False,\n",
            "tpu_num_cores=None,\n",
            "trackio_space_id=trackio,\n",
            "use_cpu=False,\n",
            "use_legacy_prediction_loop=False,\n",
            "use_liger_kernel=False,\n",
            "use_mps_device=False,\n",
            "warmup_ratio=0.0,\n",
            "warmup_steps=0,\n",
            "weight_decay=0.01,\n",
            ")\n"
          ]
        }
      ]
    },
    {
      "cell_type": "markdown",
      "source": [
        "Create Trainer and train"
      ],
      "metadata": {
        "id": "78O4WXv33R9g"
      }
    },
    {
      "cell_type": "code",
      "source": [
        "!pip install transformers --upgrade"
      ],
      "metadata": {
        "colab": {
          "base_uri": "https://localhost:8080/"
        },
        "id": "cU3Srrah4pQw",
        "outputId": "3e044d83-77ac-4fa1-e2a9-c453e9efe861"
      },
      "execution_count": 79,
      "outputs": [
        {
          "output_type": "stream",
          "name": "stdout",
          "text": [
            "Requirement already satisfied: transformers in /usr/local/lib/python3.12/dist-packages (4.57.1)\n",
            "Requirement already satisfied: filelock in /usr/local/lib/python3.12/dist-packages (from transformers) (3.20.0)\n",
            "Requirement already satisfied: huggingface-hub<1.0,>=0.34.0 in /usr/local/lib/python3.12/dist-packages (from transformers) (0.35.3)\n",
            "Requirement already satisfied: numpy>=1.17 in /usr/local/lib/python3.12/dist-packages (from transformers) (2.0.2)\n",
            "Requirement already satisfied: packaging>=20.0 in /usr/local/lib/python3.12/dist-packages (from transformers) (25.0)\n",
            "Requirement already satisfied: pyyaml>=5.1 in /usr/local/lib/python3.12/dist-packages (from transformers) (6.0.3)\n",
            "Requirement already satisfied: regex!=2019.12.17 in /usr/local/lib/python3.12/dist-packages (from transformers) (2024.11.6)\n",
            "Requirement already satisfied: requests in /usr/local/lib/python3.12/dist-packages (from transformers) (2.32.4)\n",
            "Requirement already satisfied: tokenizers<=0.23.0,>=0.22.0 in /usr/local/lib/python3.12/dist-packages (from transformers) (0.22.1)\n",
            "Requirement already satisfied: safetensors>=0.4.3 in /usr/local/lib/python3.12/dist-packages (from transformers) (0.6.2)\n",
            "Requirement already satisfied: tqdm>=4.27 in /usr/local/lib/python3.12/dist-packages (from transformers) (4.67.1)\n",
            "Requirement already satisfied: fsspec>=2023.5.0 in /usr/local/lib/python3.12/dist-packages (from huggingface-hub<1.0,>=0.34.0->transformers) (2025.3.0)\n",
            "Requirement already satisfied: typing-extensions>=3.7.4.3 in /usr/local/lib/python3.12/dist-packages (from huggingface-hub<1.0,>=0.34.0->transformers) (4.15.0)\n",
            "Requirement already satisfied: hf-xet<2.0.0,>=1.1.3 in /usr/local/lib/python3.12/dist-packages (from huggingface-hub<1.0,>=0.34.0->transformers) (1.1.10)\n",
            "Requirement already satisfied: charset_normalizer<4,>=2 in /usr/local/lib/python3.12/dist-packages (from requests->transformers) (3.4.4)\n",
            "Requirement already satisfied: idna<4,>=2.5 in /usr/local/lib/python3.12/dist-packages (from requests->transformers) (3.11)\n",
            "Requirement already satisfied: urllib3<3,>=1.21.1 in /usr/local/lib/python3.12/dist-packages (from requests->transformers) (2.5.0)\n",
            "Requirement already satisfied: certifi>=2017.4.17 in /usr/local/lib/python3.12/dist-packages (from requests->transformers) (2025.10.5)\n"
          ]
        }
      ]
    },
    {
      "cell_type": "code",
      "source": [
        "# Colab cell 9 - trainer creation and training\n",
        "from transformers import Trainer\n",
        "\n",
        "# Define compute metrics function\n",
        "def compute_metrics(pred):\n",
        "    labels = pred.label_ids\n",
        "    preds = pred.predictions.argmax(-1)\n",
        "    acc = accuracy_score(labels, preds)\n",
        "    w_f1 = f1_score(labels, preds, average='weighted')\n",
        "    return {\"accuracy\": acc, \"weighted_f1\": w_f1}\n",
        "\n",
        "# Create Trainer instance\n",
        "from transformers import Trainer\n",
        "\n",
        "# Define compute metrics function\n",
        "def compute_metrics(pred):\n",
        "    labels = pred.label_ids\n",
        "    preds = pred.predictions.argmax(-1)\n",
        "    acc = accuracy_score(labels, preds)\n",
        "    w_f1 = f1_score(labels, preds, average='weighted')\n",
        "    return {\"accuracy\": acc, \"weighted_f1\": w_f1}\n",
        "\n",
        "# Create Trainer instance\n",
        "trainer = Trainer(\n",
        "    model=model,\n",
        "    args=training_args,\n",
        "    train_dataset=tokenized_datasets[\"train\"],\n",
        "    eval_dataset=tokenized_datasets[\"test\"],\n",
        "    data_collator=data_collator,\n",
        "    compute_metrics=compute_metrics\n",
        ")\n",
        "\n",
        "# Train\n",
        "train_result = trainer.train()\n",
        "trainer.save_model(OUTPUT_DIR)  # saves model + tokenizer config\n",
        "tokenizer.save_pretrained(OUTPUT_DIR)\n",
        "print(\"Model & tokenizer saved to:\", OUTPUT_DIR)\n",
        "\n",
        "# Save training metrics\n",
        "train_metrics = train_result.metrics\n",
        "train_metrics_path = os.path.join(ARTIFACTS_DIR, \"train_metrics.json\")\n",
        "with open(train_metrics_path, \"w\") as f:\n",
        "    json.dump(train_metrics, f, indent=2)\n",
        "print(\"Saved training metrics to:\", train_metrics_path)\n"
      ],
      "metadata": {
        "colab": {
          "base_uri": "https://localhost:8080/",
          "height": 140
        },
        "id": "_isE3br93S-2",
        "outputId": "c9574a81-b091-47d0-d57e-7c1ce0ed3fd4"
      },
      "execution_count": null,
      "outputs": [
        {
          "output_type": "stream",
          "name": "stderr",
          "text": [
            "/usr/local/lib/python3.12/dist-packages/notebook/notebookapp.py:191: SyntaxWarning: invalid escape sequence '\\/'\n",
            "  | |_| | '_ \\/ _` / _` |  _/ -_)\n"
          ]
        },
        {
          "output_type": "display_data",
          "data": {
            "text/plain": [
              "<IPython.core.display.Javascript object>"
            ],
            "application/javascript": [
              "\n",
              "        window._wandbApiKey = new Promise((resolve, reject) => {\n",
              "            function loadScript(url) {\n",
              "            return new Promise(function(resolve, reject) {\n",
              "                let newScript = document.createElement(\"script\");\n",
              "                newScript.onerror = reject;\n",
              "                newScript.onload = resolve;\n",
              "                document.body.appendChild(newScript);\n",
              "                newScript.src = url;\n",
              "            });\n",
              "            }\n",
              "            loadScript(\"https://cdn.jsdelivr.net/npm/postmate/build/postmate.min.js\").then(() => {\n",
              "            const iframe = document.createElement('iframe')\n",
              "            iframe.style.cssText = \"width:0;height:0;border:none\"\n",
              "            document.body.appendChild(iframe)\n",
              "            const handshake = new Postmate({\n",
              "                container: iframe,\n",
              "                url: 'https://wandb.ai/authorize'\n",
              "            });\n",
              "            const timeout = setTimeout(() => reject(\"Couldn't auto authenticate\"), 5000)\n",
              "            handshake.then(function(child) {\n",
              "                child.on('authorize', data => {\n",
              "                    clearTimeout(timeout)\n",
              "                    resolve(data)\n",
              "                });\n",
              "            });\n",
              "            })\n",
              "        });\n",
              "    "
            ]
          },
          "metadata": {}
        },
        {
          "output_type": "stream",
          "name": "stderr",
          "text": [
            "\u001b[34m\u001b[1mwandb\u001b[0m: Logging into wandb.ai. (Learn how to deploy a W&B server locally: https://wandb.me/wandb-server)\n",
            "\u001b[34m\u001b[1mwandb\u001b[0m: You can find your API key in your browser here: https://wandb.ai/authorize?ref=models\n",
            "wandb: Paste an API key from your profile and hit enter:"
          ]
        }
      ]
    }
  ]
}